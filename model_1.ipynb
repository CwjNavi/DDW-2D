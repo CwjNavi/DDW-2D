{
 "cells": [
  {
   "cell_type": "markdown",
   "metadata": {},
   "source": [
    "<h1>DDW 2D Project</h1>\n",
    "<p>Group: CC03 - 9<br>\n",
    "Group members: Chan Wei Jian Ivan 1005924, Zhang Qixiang 1006093, Noven Zen Hong Guan 1005985, Aisiri Deb Barma 1006121, Wang Yongjie 1006155 </p>"
   ]
  },
  {
   "cell_type": "code",
   "execution_count": 1,
   "metadata": {},
   "outputs": [],
   "source": [
    "import numpy as np\n",
    "import pandas as pd\n",
    "import matplotlib.pyplot as plt\n",
    "import seaborn as sns"
   ]
  },
  {
   "cell_type": "markdown",
   "metadata": {},
   "source": [
    "<p>Reusing functions from Week 09 Cohort</p>"
   ]
  },
  {
   "cell_type": "code",
   "execution_count": 2,
   "metadata": {},
   "outputs": [],
   "source": [
    "def normalize_z(df):\n",
    "    '''Input df, output dfout\n",
    "    Z Normalizes a dataframe'''\n",
    "    \n",
    "    dfout = df.copy()\n",
    "    dfout = (dfout - df.mean(axis=0)) / df.std(axis=0)\n",
    "    \n",
    "    return dfout\n",
    "\n",
    "# def min_max\n",
    "\n",
    "def get_features_targets(df, feature_names, target_names):\n",
    "    '''input: df, ['feature_names'], ['target_names']\n",
    "    output: df_feature, df_target'''\n",
    "    \n",
    "    df_feature = df[feature_names]\n",
    "    df_target = df[target_names]\n",
    "    \n",
    "#     print(type(df_feature))\n",
    "    \n",
    "    return df_feature, df_target\n",
    "\n",
    "\n",
    "def prepare_feature(df_feature):\n",
    "    '''prepares the feature\n",
    "    input: df_feature \\n output: prepared_df_feature'''\n",
    "    \n",
    "    # get the number of columns, number of features\n",
    "    cols = len(df_feature.columns)\n",
    "    \n",
    "    # shape the feature columns\n",
    "    # why -1 for row? Transpose\n",
    "    feature = df_feature.to_numpy().reshape(-1, cols)\n",
    "    rows = feature.shape[0] # get number of rows\n",
    "    \n",
    "    # create our ones\n",
    "    ones = np.ones((rows, 1))\n",
    "    \n",
    "    X = np.concatenate((ones, feature), axis=1)\n",
    "    \n",
    "    return X\n",
    "\n",
    "\n",
    "def prepare_target(df_target):\n",
    "    '''prepares the target\n",
    "    input: df_target\n",
    "    output: prepared_target'''\n",
    "    \n",
    "    cols = len(df_target.columns)\n",
    "    target = df_target.to_numpy().reshape(-1, cols)\n",
    "    return target\n",
    "\n",
    "\n",
    "def predict(df_feature, beta):\n",
    "    \n",
    "    # normalize and prepare the feature\n",
    "    X = prepare_feature(normalize_z(df_feature))\n",
    "    \n",
    "    return calc_linear(X, beta)\n",
    "\n",
    "\n",
    "def calc_linear(X, beta):\n",
    "    '''input: X, beta output: y= X cross B'''\n",
    "    \n",
    "    return np.matmul(X, beta)\n",
    "\n",
    "\n",
    "def gradient_descent(X, y, beta, alpha, num_iters):\n",
    "    '''input: X, y, beta, alpha, num_iters\n",
    "    output: beta, J_storage(list of all costs computed with using beta)'''\n",
    "    \n",
    "    # get number of rows\n",
    "    m = X.shape[0]\n",
    "    \n",
    "    # initialize J storage which stores all the successive iterations of cost function\n",
    "    J_storage = np.zeros((num_iters, 1))\n",
    "    \n",
    "    # compute cost and store in J_storage each succesive iteration of cost function\n",
    "    for n in range(num_iters):\n",
    "        deriv = np.matmul(X.T, (calc_linear(X, beta) - y))\n",
    "        beta = beta - alpha * (1/m) * deriv\n",
    "        J_storage[n] = compute_cost(X, y, beta)\n",
    "        \n",
    "    return beta, J_storage\n",
    "\n",
    "\n",
    "def compute_cost(X, y, beta):\n",
    "    \n",
    "    n = X.shape[0]\n",
    "    \n",
    "    # error = yhat - y\n",
    "    error = calc_linear(X, beta) - y\n",
    "    error_sq = np.matmul(error.T, error) # transpose the error matrix\n",
    "    # multiply by itself\n",
    "    \n",
    "    J = (1/(2*n)) * error_sq\n",
    "    \n",
    "    return J\n",
    "\n",
    "\n",
    "def split_data(df_feature, df_target, random_state=100, test_size=0.3):\n",
    "    '''splits data into training and testing\n",
    "    input: df_feature, df_target, random_state=100, test_size=0.3\n",
    "    output: df_feature_train, df_feature_test, df_target_train, df_target_test'''\n",
    "    np.random.seed(random_state)\n",
    "    n = len(df_feature)\n",
    "    \n",
    "    test_num = int(n * (test_size))\n",
    "    \n",
    "    test_idx = np.random.choice(n, test_num, replace=False) # all the indexes of the test indexes\n",
    "    train_idx = [i for i in range(n) if i not in test_idx]\n",
    "    \n",
    "    df_feature_test = df_feature.iloc[test_idx]\n",
    "    df_feature_train = df_feature.iloc[train_idx]\n",
    "    \n",
    "    df_target_test = df_target.iloc[test_idx]\n",
    "    df_target_train = df_target.iloc[train_idx]\n",
    "    \n",
    "    return df_feature_train, df_feature_test, df_target_train, df_target_test\n",
    "  \n",
    "    \n",
    "def r2_score(y, ypred):\n",
    "    '''finds the R^2 score\n",
    "    input y(np_array) actual values, ypred(np_array) predicted values\n",
    "    output R^2'''\n",
    "    \n",
    "    n = len(y)\n",
    "    \n",
    "    y_bar = np.mean(y)\n",
    "    \n",
    "    # SS_res = summation (true_y - y_pred)**2\n",
    "    SS_res = 0\n",
    "    for true_y, pred_y in zip(y, ypred):\n",
    "        SS_res += (true_y - pred_y)**2\n",
    "    \n",
    "    # SS_tot = summation (true_y - y_bar)**2\n",
    "    SS_tot = 0\n",
    "    for true_y in y:\n",
    "        SS_tot += (true_y - y_bar)**2    \n",
    "    \n",
    "    r_2 = 1 - (SS_res / SS_tot)\n",
    "    \n",
    "    return r_2\n",
    "    pass\n",
    "\n",
    "\n",
    "def mean_squared_error(target, pred):\n",
    "    '''finds the mean squared error\n",
    "    input target(np_array), pred(np_array)\n",
    "    output mean_squared_error'''\n",
    "    \n",
    "    n = len(target)\n",
    "    \n",
    "    # summation of (actual_y - y_cap)**2\n",
    "    MSE = 0\n",
    "    for actual_y, pred_y in zip(target, pred):\n",
    "        MSE += (actual_y - pred_y)**2\n",
    "    MSE /= n\n",
    "    \n",
    "    return MSE\n",
    "    pass"
   ]
  },
  {
   "cell_type": "markdown",
   "metadata": {},
   "source": [
    "<h2>Problem statement</h2>\n",
    "How might we estimate the level of moderate and severe food insecurity based on the UN Food\n",
    "    and Agricultural Organization’s index<br>using a country’s GDP per capita,\n",
    "    net imports of cereals per capita and production of cereals per capita.<br>\n",
    "    Our rationale is that the country's wealth would affect it's food security. Moreover the amount of imports and food production would also affect<br>\n",
    "    the amount of food available to the country, in turn affecting the food security of the country.<br><br>\n",
    "    Y (UN Food and Agricultural Organization’s index)= B<sub>0</sub> + B<sub>1</sub> (GDP per capita) + B<sub>2</sub> (Net imports of cereals per capita) + B<sub>3</sub> (Production of cereals per capita)"
   ]
  },
  {
   "cell_type": "markdown",
   "metadata": {},
   "source": [
    "<h2>Data Preprocessing</h2>"
   ]
  },
  {
   "cell_type": "code",
   "execution_count": 3,
   "metadata": {},
   "outputs": [
    {
     "data": {
      "text/html": [
       "<div>\n",
       "<style scoped>\n",
       "    .dataframe tbody tr th:only-of-type {\n",
       "        vertical-align: middle;\n",
       "    }\n",
       "\n",
       "    .dataframe tbody tr th {\n",
       "        vertical-align: top;\n",
       "    }\n",
       "\n",
       "    .dataframe thead th {\n",
       "        text-align: right;\n",
       "    }\n",
       "</style>\n",
       "<table border=\"1\" class=\"dataframe\">\n",
       "  <thead>\n",
       "    <tr style=\"text-align: right;\">\n",
       "      <th></th>\n",
       "      <th>Domain Code</th>\n",
       "      <th>Domain</th>\n",
       "      <th>Area Code (M49)</th>\n",
       "      <th>Area</th>\n",
       "      <th>Element Code</th>\n",
       "      <th>Element</th>\n",
       "      <th>Item Code</th>\n",
       "      <th>Item</th>\n",
       "      <th>Year Code</th>\n",
       "      <th>Year</th>\n",
       "      <th>Unit</th>\n",
       "      <th>Value</th>\n",
       "      <th>Flag</th>\n",
       "      <th>Flag Description</th>\n",
       "      <th>Note</th>\n",
       "    </tr>\n",
       "  </thead>\n",
       "  <tbody>\n",
       "    <tr>\n",
       "      <th>0</th>\n",
       "      <td>FS</td>\n",
       "      <td>Suite of Food Security Indicators</td>\n",
       "      <td>4</td>\n",
       "      <td>Afghanistan</td>\n",
       "      <td>6121</td>\n",
       "      <td>Value</td>\n",
       "      <td>210091</td>\n",
       "      <td>Prevalence of moderate or severe food insecuri...</td>\n",
       "      <td>20182020</td>\n",
       "      <td>2018-2020</td>\n",
       "      <td>%</td>\n",
       "      <td>63.1</td>\n",
       "      <td>A</td>\n",
       "      <td>Official figure</td>\n",
       "      <td>Official estimate integrated with FAO data</td>\n",
       "    </tr>\n",
       "    <tr>\n",
       "      <th>1</th>\n",
       "      <td>FS</td>\n",
       "      <td>Suite of Food Security Indicators</td>\n",
       "      <td>4</td>\n",
       "      <td>Afghanistan</td>\n",
       "      <td>6121</td>\n",
       "      <td>Value</td>\n",
       "      <td>210091</td>\n",
       "      <td>Prevalence of moderate or severe food insecuri...</td>\n",
       "      <td>20192021</td>\n",
       "      <td>2019-2021</td>\n",
       "      <td>%</td>\n",
       "      <td>70.0</td>\n",
       "      <td>A</td>\n",
       "      <td>Official figure</td>\n",
       "      <td>Official estimate integrated with FAO data</td>\n",
       "    </tr>\n",
       "    <tr>\n",
       "      <th>2</th>\n",
       "      <td>FS</td>\n",
       "      <td>Suite of Food Security Indicators</td>\n",
       "      <td>4</td>\n",
       "      <td>Afghanistan</td>\n",
       "      <td>6121</td>\n",
       "      <td>Value</td>\n",
       "      <td>210091M</td>\n",
       "      <td>Prevalence of moderate or severe food insecuri...</td>\n",
       "      <td>20182020</td>\n",
       "      <td>2018-2020</td>\n",
       "      <td>%</td>\n",
       "      <td>60.2</td>\n",
       "      <td>E</td>\n",
       "      <td>Estimated value</td>\n",
       "      <td>NaN</td>\n",
       "    </tr>\n",
       "    <tr>\n",
       "      <th>3</th>\n",
       "      <td>FS</td>\n",
       "      <td>Suite of Food Security Indicators</td>\n",
       "      <td>4</td>\n",
       "      <td>Afghanistan</td>\n",
       "      <td>6121</td>\n",
       "      <td>Value</td>\n",
       "      <td>210091M</td>\n",
       "      <td>Prevalence of moderate or severe food insecuri...</td>\n",
       "      <td>20192021</td>\n",
       "      <td>2019-2021</td>\n",
       "      <td>%</td>\n",
       "      <td>65.5</td>\n",
       "      <td>E</td>\n",
       "      <td>Estimated value</td>\n",
       "      <td>NaN</td>\n",
       "    </tr>\n",
       "    <tr>\n",
       "      <th>4</th>\n",
       "      <td>FS</td>\n",
       "      <td>Suite of Food Security Indicators</td>\n",
       "      <td>4</td>\n",
       "      <td>Afghanistan</td>\n",
       "      <td>6121</td>\n",
       "      <td>Value</td>\n",
       "      <td>210091F</td>\n",
       "      <td>Prevalence of moderate or severe food insecuri...</td>\n",
       "      <td>20182020</td>\n",
       "      <td>2018-2020</td>\n",
       "      <td>%</td>\n",
       "      <td>74.7</td>\n",
       "      <td>E</td>\n",
       "      <td>Estimated value</td>\n",
       "      <td>NaN</td>\n",
       "    </tr>\n",
       "  </tbody>\n",
       "</table>\n",
       "</div>"
      ],
      "text/plain": [
       "  Domain Code                             Domain  Area Code (M49)  \\\n",
       "0          FS  Suite of Food Security Indicators                4   \n",
       "1          FS  Suite of Food Security Indicators                4   \n",
       "2          FS  Suite of Food Security Indicators                4   \n",
       "3          FS  Suite of Food Security Indicators                4   \n",
       "4          FS  Suite of Food Security Indicators                4   \n",
       "\n",
       "          Area  Element Code Element Item Code  \\\n",
       "0  Afghanistan          6121   Value    210091   \n",
       "1  Afghanistan          6121   Value    210091   \n",
       "2  Afghanistan          6121   Value   210091M   \n",
       "3  Afghanistan          6121   Value   210091M   \n",
       "4  Afghanistan          6121   Value   210091F   \n",
       "\n",
       "                                                Item  Year Code       Year  \\\n",
       "0  Prevalence of moderate or severe food insecuri...   20182020  2018-2020   \n",
       "1  Prevalence of moderate or severe food insecuri...   20192021  2019-2021   \n",
       "2  Prevalence of moderate or severe food insecuri...   20182020  2018-2020   \n",
       "3  Prevalence of moderate or severe food insecuri...   20192021  2019-2021   \n",
       "4  Prevalence of moderate or severe food insecuri...   20182020  2018-2020   \n",
       "\n",
       "  Unit  Value Flag Flag Description  \\\n",
       "0    %   63.1    A  Official figure   \n",
       "1    %   70.0    A  Official figure   \n",
       "2    %   60.2    E  Estimated value   \n",
       "3    %   65.5    E  Estimated value   \n",
       "4    %   74.7    E  Estimated value   \n",
       "\n",
       "                                         Note  \n",
       "0  Official estimate integrated with FAO data  \n",
       "1  Official estimate integrated with FAO data  \n",
       "2                                         NaN  \n",
       "3                                         NaN  \n",
       "4                                         NaN  "
      ]
     },
     "execution_count": 3,
     "metadata": {},
     "output_type": "execute_result"
    }
   ],
   "source": [
    "## Read food_insescurity data\n",
    "df_food_insecurity = pd.read_csv('2019-2020/Food_insecurity.csv')\n",
    "df_food_insecurity.head()"
   ]
  },
  {
   "cell_type": "code",
   "execution_count": 4,
   "metadata": {},
   "outputs": [
    {
     "data": {
      "text/html": [
       "<div>\n",
       "<style scoped>\n",
       "    .dataframe tbody tr th:only-of-type {\n",
       "        vertical-align: middle;\n",
       "    }\n",
       "\n",
       "    .dataframe tbody tr th {\n",
       "        vertical-align: top;\n",
       "    }\n",
       "\n",
       "    .dataframe thead th {\n",
       "        text-align: right;\n",
       "    }\n",
       "</style>\n",
       "<table border=\"1\" class=\"dataframe\">\n",
       "  <thead>\n",
       "    <tr style=\"text-align: right;\">\n",
       "      <th></th>\n",
       "      <th>Area Code (M49)</th>\n",
       "      <th>Element Code</th>\n",
       "      <th>Year Code</th>\n",
       "      <th>Value</th>\n",
       "    </tr>\n",
       "  </thead>\n",
       "  <tbody>\n",
       "    <tr>\n",
       "      <th>count</th>\n",
       "      <td>1224.000000</td>\n",
       "      <td>1224.0</td>\n",
       "      <td>1.224000e+03</td>\n",
       "      <td>759.000000</td>\n",
       "    </tr>\n",
       "    <tr>\n",
       "      <th>mean</th>\n",
       "      <td>425.171569</td>\n",
       "      <td>6121.0</td>\n",
       "      <td>2.018702e+07</td>\n",
       "      <td>31.652964</td>\n",
       "    </tr>\n",
       "    <tr>\n",
       "      <th>std</th>\n",
       "      <td>253.947397</td>\n",
       "      <td>0.0</td>\n",
       "      <td>5.002544e+03</td>\n",
       "      <td>24.744241</td>\n",
       "    </tr>\n",
       "    <tr>\n",
       "      <th>min</th>\n",
       "      <td>4.000000</td>\n",
       "      <td>6121.0</td>\n",
       "      <td>2.018202e+07</td>\n",
       "      <td>1.300000</td>\n",
       "    </tr>\n",
       "    <tr>\n",
       "      <th>25%</th>\n",
       "      <td>203.750000</td>\n",
       "      <td>6121.0</td>\n",
       "      <td>2.018202e+07</td>\n",
       "      <td>9.450000</td>\n",
       "    </tr>\n",
       "    <tr>\n",
       "      <th>50%</th>\n",
       "      <td>420.000000</td>\n",
       "      <td>6121.0</td>\n",
       "      <td>2.018702e+07</td>\n",
       "      <td>25.700000</td>\n",
       "    </tr>\n",
       "    <tr>\n",
       "      <th>75%</th>\n",
       "      <td>642.250000</td>\n",
       "      <td>6121.0</td>\n",
       "      <td>2.019202e+07</td>\n",
       "      <td>49.400000</td>\n",
       "    </tr>\n",
       "    <tr>\n",
       "      <th>max</th>\n",
       "      <td>894.000000</td>\n",
       "      <td>6121.0</td>\n",
       "      <td>2.019202e+07</td>\n",
       "      <td>91.800000</td>\n",
       "    </tr>\n",
       "  </tbody>\n",
       "</table>\n",
       "</div>"
      ],
      "text/plain": [
       "       Area Code (M49)  Element Code     Year Code       Value\n",
       "count      1224.000000        1224.0  1.224000e+03  759.000000\n",
       "mean        425.171569        6121.0  2.018702e+07   31.652964\n",
       "std         253.947397           0.0  5.002544e+03   24.744241\n",
       "min           4.000000        6121.0  2.018202e+07    1.300000\n",
       "25%         203.750000        6121.0  2.018202e+07    9.450000\n",
       "50%         420.000000        6121.0  2.018702e+07   25.700000\n",
       "75%         642.250000        6121.0  2.019202e+07   49.400000\n",
       "max         894.000000        6121.0  2.019202e+07   91.800000"
      ]
     },
     "execution_count": 4,
     "metadata": {},
     "output_type": "execute_result"
    }
   ],
   "source": [
    "df_food_insecurity.describe()"
   ]
  },
  {
   "cell_type": "code",
   "execution_count": 5,
   "metadata": {},
   "outputs": [
    {
     "name": "stdout",
     "output_type": "stream",
     "text": [
      "      Area Code (M49)  Year  Food Insecurity\n",
      "1201              704  2020              7.6\n",
      "1212              894  2019             60.3\n",
      "1213              894  2020             69.5\n",
      "1218              716  2019             69.8\n",
      "1219              716  2020             73.0\n"
     ]
    }
   ],
   "source": [
    "## change the Years to a single year ie. 2010-2014 to 2012\n",
    "## remove years and countries with 'Flag' == 'O\n",
    "## change the food insecurity for each country and year to official data, \n",
    "## if no official data, use lowest estimate\n",
    "## then drop the rest\n",
    "\n",
    "def clean_food_insecurity(df_in):\n",
    "    '''\n",
    "    extracts country code, year, value of food insecurity from FAO dataset\n",
    "    input: df_in\n",
    "    output: df_out'''\n",
    "    \n",
    "    df_out = df_in.copy()\n",
    "    \n",
    "    ## change the years to a single year if not already\n",
    "    for i in range(df_out.shape[0]):\n",
    "        if isinstance(df_out.iloc[i]['Year'], str):\n",
    "            year_ls = df_out.iloc[i]['Year'].split('-')\n",
    "            actual_year = sum([int(year) for year in year_ls]) // 2\n",
    "            df_out.at[i, 'Year'] = actual_year\n",
    "\n",
    "    ## want only Area_Code (M49), Year, Value and Flag\n",
    "    df_out = df_out[['Area Code (M49)', 'Year', 'Value', 'Flag']]\n",
    "\n",
    "    ## remove the years with Flag == 'O'\n",
    "    df_out = df_out[df_out['Flag'] != 'O']\n",
    "\n",
    "    ## remove nan values\n",
    "    df_out = df_out.dropna()\n",
    "    \n",
    "    area_codes = df_out['Area Code (M49)'].unique()\n",
    "    years = df_out['Year'].unique()\n",
    "    \n",
    "    for area_code in area_codes:\n",
    "        for year in years:\n",
    "\n",
    "            ## if official data available for Area Code and Year, drop estimates\n",
    "            if 'A' in df_out[(df_out['Area Code (M49)'] == area_code) & (df_out['Year'] == year)]['Flag'].values:\n",
    "                df_out = df_out.drop(df_out[(df_out['Area Code (M49)'] == area_code) & (df_out['Year'] == year) & (df_out['Flag'] == 'E')].index)\n",
    "            \n",
    "            ## elif estimate data available for Area Code and Year, keep only lowest estimate\n",
    "            elif 'E' in df_out[(df_out['Area Code (M49)'] == area_code) & (df_out['Year'] == year)]['Flag'].values:\n",
    "                df_out = df_out.drop(df_out[(df_out['Area Code (M49)'] == area_code) & (df_out['Year'] == year) & (df_out['Flag'] == 'E')].index[1:])\n",
    "\n",
    "    ## drop the Flag column\n",
    "    df_out = df_out.drop('Flag', axis=1)\n",
    "\n",
    "    ## rename the column Value to Food_Insecurity\n",
    "    df_out.rename(columns={'Value': 'Food Insecurity'}, inplace=True)\n",
    "\n",
    "    return df_out\n",
    "\n",
    "\n",
    "df_food_insecurity_cleaned = clean_food_insecurity(df_food_insecurity)\n",
    "\n",
    "print(df_food_insecurity_cleaned.tail())"
   ]
  },
  {
   "cell_type": "code",
   "execution_count": 6,
   "metadata": {},
   "outputs": [
    {
     "name": "stdout",
     "output_type": "stream",
     "text": [
      "(281, 3)\n"
     ]
    }
   ],
   "source": [
    "print(df_food_insecurity_cleaned.shape)\n",
    "\n",
    "## food insecurity data is now cleaned"
   ]
  },
  {
   "cell_type": "code",
   "execution_count": 7,
   "metadata": {},
   "outputs": [],
   "source": [
    "## cleaing gdp data\n",
    "df_GDP = pd.read_csv('2019-2020/GDP.csv')"
   ]
  },
  {
   "cell_type": "code",
   "execution_count": 8,
   "metadata": {},
   "outputs": [
    {
     "name": "stdout",
     "output_type": "stream",
     "text": [
      "  Domain Code            Domain  Area Code (M49)         Area  Element Code  \\\n",
      "0          MK  Macro Indicators                4  Afghanistan          6110   \n",
      "1          MK  Macro Indicators                8      Albania          6110   \n",
      "2          MK  Macro Indicators               12      Algeria          6110   \n",
      "3          MK  Macro Indicators               20      Andorra          6110   \n",
      "4          MK  Macro Indicators               24       Angola          6110   \n",
      "\n",
      "     Element  Item Code                    Item  Year Code  Year      Unit  \\\n",
      "0  Value US$      22008  Gross Domestic Product       2019  2019  millions   \n",
      "1  Value US$      22008  Gross Domestic Product       2019  2019  millions   \n",
      "2  Value US$      22008  Gross Domestic Product       2019  2019  millions   \n",
      "3  Value US$      22008  Gross Domestic Product       2019  2019  millions   \n",
      "4  Value US$      22008  Gross Domestic Product       2019  2019  millions   \n",
      "\n",
      "           Value Flag                         Flag Description  Note  \n",
      "0   18904.490263    X  Figure from international organizations   NaN  \n",
      "1   15400.237155    X  Figure from international organizations   NaN  \n",
      "2  171158.234285    X  Figure from international organizations   NaN  \n",
      "3    3155.149348    X  Figure from international organizations   NaN  \n",
      "4   89417.189120    X  Figure from international organizations   NaN  \n"
     ]
    }
   ],
   "source": [
    "print(df_GDP.head())"
   ]
  },
  {
   "cell_type": "code",
   "execution_count": 9,
   "metadata": {},
   "outputs": [
    {
     "name": "stdout",
     "output_type": "stream",
     "text": [
      "   Area Code (M49)  Year            GDP\n",
      "0                4  2019   18904.490263\n",
      "1                8  2019   15400.237155\n",
      "2               12  2019  171158.234285\n",
      "3               20  2019    3155.149348\n",
      "4               24  2019   89417.189120\n"
     ]
    }
   ],
   "source": [
    "\n",
    "def clean_FAO_data(df_in, col_name):\n",
    "    '''\n",
    "    extracts country code, year, value of specified column from FAO dataset\n",
    "    input: df_feature, name_of_feature\n",
    "    output: df_feature_cleaned'''\n",
    "    df_out = df_in.copy()\n",
    "    df_out = df_out[['Area Code (M49)', 'Year', 'Value']]\n",
    "\n",
    "    df_out.rename(columns={'Value': col_name}, inplace=True)\n",
    "\n",
    "    return df_out\n",
    "\n",
    "df_GDP_cleaned = clean_FAO_data(df_GDP, 'GDP')\n",
    "\n",
    "print(df_GDP_cleaned.head())\n",
    "\n",
    "## gdp data is now cleaned"
   ]
  },
  {
   "cell_type": "code",
   "execution_count": 10,
   "metadata": {},
   "outputs": [
    {
     "name": "stderr",
     "output_type": "stream",
     "text": [
      "C:\\Users\\ivanc\\AppData\\Local\\Temp/ipykernel_22064/1378513382.py:2: DtypeWarning: Columns (2) have mixed types. Specify dtype option on import or set low_memory=False.\n",
      "  df_world_population = pd.read_csv('World_population.csv')\n"
     ]
    }
   ],
   "source": [
    "## clean world population\n",
    "df_world_population = pd.read_csv('World_population.csv')"
   ]
  },
  {
   "cell_type": "code",
   "execution_count": 11,
   "metadata": {},
   "outputs": [],
   "source": [
    "# df_world_population['LocID'].unique()\n",
    "# df_world_population['Time'].unique()\n",
    "# df_world_population['TPopulation1Jan'].unique()"
   ]
  },
  {
   "cell_type": "code",
   "execution_count": 12,
   "metadata": {},
   "outputs": [],
   "source": [
    "def clean_world_population(df_in, years=(2019,2020)):\n",
    "    '''cleans world population data from UN stats\n",
    "    input: df_in, years(start, end) years to keep\n",
    "    output cleaned dataframe'''\n",
    "    df_out = df_in.copy()\n",
    "    df_out = df_out[['LocID', 'Time', 'TPopulation1Jan']]\n",
    "    df_out.rename(columns={'LocID': 'Area Code (M49)', 'Time': 'Year', 'TPopulation1Jan': 'Population'}, inplace=True)\n",
    "    df_out = df_out.loc[(df_out['Year'] >= years[0]) & (df_out['Year'] <= years[1])]\n",
    "    return df_out"
   ]
  },
  {
   "cell_type": "code",
   "execution_count": 13,
   "metadata": {},
   "outputs": [
    {
     "data": {
      "text/html": [
       "<div>\n",
       "<style scoped>\n",
       "    .dataframe tbody tr th:only-of-type {\n",
       "        vertical-align: middle;\n",
       "    }\n",
       "\n",
       "    .dataframe tbody tr th {\n",
       "        vertical-align: top;\n",
       "    }\n",
       "\n",
       "    .dataframe thead th {\n",
       "        text-align: right;\n",
       "    }\n",
       "</style>\n",
       "<table border=\"1\" class=\"dataframe\">\n",
       "  <thead>\n",
       "    <tr style=\"text-align: right;\">\n",
       "      <th></th>\n",
       "      <th>Area Code (M49)</th>\n",
       "      <th>Year</th>\n",
       "      <th>Population</th>\n",
       "    </tr>\n",
       "  </thead>\n",
       "  <tbody>\n",
       "    <tr>\n",
       "      <th>69</th>\n",
       "      <td>900</td>\n",
       "      <td>2019</td>\n",
       "      <td>7724928.292</td>\n",
       "    </tr>\n",
       "    <tr>\n",
       "      <th>70</th>\n",
       "      <td>900</td>\n",
       "      <td>2020</td>\n",
       "      <td>7804973.773</td>\n",
       "    </tr>\n",
       "    <tr>\n",
       "      <th>221</th>\n",
       "      <td>1834</td>\n",
       "      <td>2019</td>\n",
       "      <td>1066501.002</td>\n",
       "    </tr>\n",
       "    <tr>\n",
       "      <th>222</th>\n",
       "      <td>1834</td>\n",
       "      <td>2020</td>\n",
       "      <td>1094853.689</td>\n",
       "    </tr>\n",
       "    <tr>\n",
       "      <th>373</th>\n",
       "      <td>1833</td>\n",
       "      <td>2019</td>\n",
       "      <td>525709.330</td>\n",
       "    </tr>\n",
       "  </tbody>\n",
       "</table>\n",
       "</div>"
      ],
      "text/plain": [
       "     Area Code (M49)  Year   Population\n",
       "69               900  2019  7724928.292\n",
       "70               900  2020  7804973.773\n",
       "221             1834  2019  1066501.002\n",
       "222             1834  2020  1094853.689\n",
       "373             1833  2019   525709.330"
      ]
     },
     "execution_count": 13,
     "metadata": {},
     "output_type": "execute_result"
    }
   ],
   "source": [
    "df_world_population_cleaned = clean_world_population(df_world_population)\n",
    "df_world_population_cleaned.head()\n",
    "\n",
    "## world population data is now cleaned"
   ]
  },
  {
   "cell_type": "code",
   "execution_count": 14,
   "metadata": {},
   "outputs": [
    {
     "data": {
      "text/html": [
       "<div>\n",
       "<style scoped>\n",
       "    .dataframe tbody tr th:only-of-type {\n",
       "        vertical-align: middle;\n",
       "    }\n",
       "\n",
       "    .dataframe tbody tr th {\n",
       "        vertical-align: top;\n",
       "    }\n",
       "\n",
       "    .dataframe thead th {\n",
       "        text-align: right;\n",
       "    }\n",
       "</style>\n",
       "<table border=\"1\" class=\"dataframe\">\n",
       "  <thead>\n",
       "    <tr style=\"text-align: right;\">\n",
       "      <th></th>\n",
       "      <th>Domain Code</th>\n",
       "      <th>Domain</th>\n",
       "      <th>Area Code (M49)</th>\n",
       "      <th>Area</th>\n",
       "      <th>Element Code</th>\n",
       "      <th>Element</th>\n",
       "      <th>Item Code (CPC)</th>\n",
       "      <th>Item</th>\n",
       "      <th>Year Code</th>\n",
       "      <th>Year</th>\n",
       "      <th>Unit</th>\n",
       "      <th>Value</th>\n",
       "      <th>Flag</th>\n",
       "      <th>Flag Description</th>\n",
       "    </tr>\n",
       "  </thead>\n",
       "  <tbody>\n",
       "    <tr>\n",
       "      <th>0</th>\n",
       "      <td>QCL</td>\n",
       "      <td>Crops and livestock products</td>\n",
       "      <td>4</td>\n",
       "      <td>Afghanistan</td>\n",
       "      <td>5510</td>\n",
       "      <td>Production</td>\n",
       "      <td>F1717</td>\n",
       "      <td>Cereals, Total</td>\n",
       "      <td>2019</td>\n",
       "      <td>2019</td>\n",
       "      <td>tonnes</td>\n",
       "      <td>5583461.0</td>\n",
       "      <td>E</td>\n",
       "      <td>Estimated value</td>\n",
       "    </tr>\n",
       "    <tr>\n",
       "      <th>1</th>\n",
       "      <td>QCL</td>\n",
       "      <td>Crops and livestock products</td>\n",
       "      <td>4</td>\n",
       "      <td>Afghanistan</td>\n",
       "      <td>5510</td>\n",
       "      <td>Production</td>\n",
       "      <td>F1717</td>\n",
       "      <td>Cereals, Total</td>\n",
       "      <td>2020</td>\n",
       "      <td>2020</td>\n",
       "      <td>tonnes</td>\n",
       "      <td>6025977.0</td>\n",
       "      <td>E</td>\n",
       "      <td>Estimated value</td>\n",
       "    </tr>\n",
       "    <tr>\n",
       "      <th>2</th>\n",
       "      <td>QCL</td>\n",
       "      <td>Crops and livestock products</td>\n",
       "      <td>8</td>\n",
       "      <td>Albania</td>\n",
       "      <td>5510</td>\n",
       "      <td>Production</td>\n",
       "      <td>F1717</td>\n",
       "      <td>Cereals, Total</td>\n",
       "      <td>2019</td>\n",
       "      <td>2019</td>\n",
       "      <td>tonnes</td>\n",
       "      <td>666065.0</td>\n",
       "      <td>E</td>\n",
       "      <td>Estimated value</td>\n",
       "    </tr>\n",
       "    <tr>\n",
       "      <th>3</th>\n",
       "      <td>QCL</td>\n",
       "      <td>Crops and livestock products</td>\n",
       "      <td>8</td>\n",
       "      <td>Albania</td>\n",
       "      <td>5510</td>\n",
       "      <td>Production</td>\n",
       "      <td>F1717</td>\n",
       "      <td>Cereals, Total</td>\n",
       "      <td>2020</td>\n",
       "      <td>2020</td>\n",
       "      <td>tonnes</td>\n",
       "      <td>684023.0</td>\n",
       "      <td>E</td>\n",
       "      <td>Estimated value</td>\n",
       "    </tr>\n",
       "    <tr>\n",
       "      <th>4</th>\n",
       "      <td>QCL</td>\n",
       "      <td>Crops and livestock products</td>\n",
       "      <td>12</td>\n",
       "      <td>Algeria</td>\n",
       "      <td>5510</td>\n",
       "      <td>Production</td>\n",
       "      <td>F1717</td>\n",
       "      <td>Cereals, Total</td>\n",
       "      <td>2019</td>\n",
       "      <td>2019</td>\n",
       "      <td>tonnes</td>\n",
       "      <td>5633586.0</td>\n",
       "      <td>E</td>\n",
       "      <td>Estimated value</td>\n",
       "    </tr>\n",
       "  </tbody>\n",
       "</table>\n",
       "</div>"
      ],
      "text/plain": [
       "  Domain Code                        Domain  Area Code (M49)         Area  \\\n",
       "0         QCL  Crops and livestock products                4  Afghanistan   \n",
       "1         QCL  Crops and livestock products                4  Afghanistan   \n",
       "2         QCL  Crops and livestock products                8      Albania   \n",
       "3         QCL  Crops and livestock products                8      Albania   \n",
       "4         QCL  Crops and livestock products               12      Algeria   \n",
       "\n",
       "   Element Code     Element Item Code (CPC)            Item  Year Code  Year  \\\n",
       "0          5510  Production           F1717  Cereals, Total       2019  2019   \n",
       "1          5510  Production           F1717  Cereals, Total       2020  2020   \n",
       "2          5510  Production           F1717  Cereals, Total       2019  2019   \n",
       "3          5510  Production           F1717  Cereals, Total       2020  2020   \n",
       "4          5510  Production           F1717  Cereals, Total       2019  2019   \n",
       "\n",
       "     Unit      Value Flag Flag Description  \n",
       "0  tonnes  5583461.0    E  Estimated value  \n",
       "1  tonnes  6025977.0    E  Estimated value  \n",
       "2  tonnes   666065.0    E  Estimated value  \n",
       "3  tonnes   684023.0    E  Estimated value  \n",
       "4  tonnes  5633586.0    E  Estimated value  "
      ]
     },
     "execution_count": 14,
     "metadata": {},
     "output_type": "execute_result"
    }
   ],
   "source": [
    "## clean food production\n",
    "df_food_production = pd.read_csv('2019-2020/Food_production.csv')\n",
    "df_food_production.head()"
   ]
  },
  {
   "cell_type": "code",
   "execution_count": 15,
   "metadata": {},
   "outputs": [
    {
     "data": {
      "text/html": [
       "<div>\n",
       "<style scoped>\n",
       "    .dataframe tbody tr th:only-of-type {\n",
       "        vertical-align: middle;\n",
       "    }\n",
       "\n",
       "    .dataframe tbody tr th {\n",
       "        vertical-align: top;\n",
       "    }\n",
       "\n",
       "    .dataframe thead th {\n",
       "        text-align: right;\n",
       "    }\n",
       "</style>\n",
       "<table border=\"1\" class=\"dataframe\">\n",
       "  <thead>\n",
       "    <tr style=\"text-align: right;\">\n",
       "      <th></th>\n",
       "      <th>Area Code (M49)</th>\n",
       "      <th>Year</th>\n",
       "      <th>Food Production</th>\n",
       "    </tr>\n",
       "  </thead>\n",
       "  <tbody>\n",
       "    <tr>\n",
       "      <th>0</th>\n",
       "      <td>4</td>\n",
       "      <td>2019</td>\n",
       "      <td>5583461.0</td>\n",
       "    </tr>\n",
       "    <tr>\n",
       "      <th>1</th>\n",
       "      <td>4</td>\n",
       "      <td>2020</td>\n",
       "      <td>6025977.0</td>\n",
       "    </tr>\n",
       "    <tr>\n",
       "      <th>2</th>\n",
       "      <td>8</td>\n",
       "      <td>2019</td>\n",
       "      <td>666065.0</td>\n",
       "    </tr>\n",
       "    <tr>\n",
       "      <th>3</th>\n",
       "      <td>8</td>\n",
       "      <td>2020</td>\n",
       "      <td>684023.0</td>\n",
       "    </tr>\n",
       "    <tr>\n",
       "      <th>4</th>\n",
       "      <td>12</td>\n",
       "      <td>2019</td>\n",
       "      <td>5633586.0</td>\n",
       "    </tr>\n",
       "  </tbody>\n",
       "</table>\n",
       "</div>"
      ],
      "text/plain": [
       "   Area Code (M49)  Year  Food Production\n",
       "0                4  2019        5583461.0\n",
       "1                4  2020        6025977.0\n",
       "2                8  2019         666065.0\n",
       "3                8  2020         684023.0\n",
       "4               12  2019        5633586.0"
      ]
     },
     "execution_count": 15,
     "metadata": {},
     "output_type": "execute_result"
    }
   ],
   "source": [
    "# old code back when functions were not modular\n",
    "# def clean_food_production(df_in):\n",
    "#     '''input: df_in output: df_out'''\n",
    "#     df_out = df_in.copy()\n",
    "#     df_out = df_out[['Area Code (M49)', 'Year', 'Value']]\n",
    "#     df_out.rename(columns={'Value': 'Food Production'}, inplace=True)\n",
    "#     return df_out\n",
    "\n",
    "df_food_production_cleaned = clean_FAO_data(df_food_production, 'Food Production')\n",
    "\n",
    "df_food_production_cleaned.head()\n",
    "\n",
    "## food production data is now cleaned"
   ]
  },
  {
   "cell_type": "code",
   "execution_count": 16,
   "metadata": {},
   "outputs": [
    {
     "data": {
      "text/html": [
       "<div>\n",
       "<style scoped>\n",
       "    .dataframe tbody tr th:only-of-type {\n",
       "        vertical-align: middle;\n",
       "    }\n",
       "\n",
       "    .dataframe tbody tr th {\n",
       "        vertical-align: top;\n",
       "    }\n",
       "\n",
       "    .dataframe thead th {\n",
       "        text-align: right;\n",
       "    }\n",
       "</style>\n",
       "<table border=\"1\" class=\"dataframe\">\n",
       "  <thead>\n",
       "    <tr style=\"text-align: right;\">\n",
       "      <th></th>\n",
       "      <th>Domain Code</th>\n",
       "      <th>Domain</th>\n",
       "      <th>Area Code (M49)</th>\n",
       "      <th>Area</th>\n",
       "      <th>Element Code</th>\n",
       "      <th>Element</th>\n",
       "      <th>Item Code (CPC)</th>\n",
       "      <th>Item</th>\n",
       "      <th>Year Code</th>\n",
       "      <th>Year</th>\n",
       "      <th>Unit</th>\n",
       "      <th>Value</th>\n",
       "      <th>Flag</th>\n",
       "      <th>Flag Description</th>\n",
       "    </tr>\n",
       "  </thead>\n",
       "  <tbody>\n",
       "    <tr>\n",
       "      <th>0</th>\n",
       "      <td>TCL</td>\n",
       "      <td>Crops and livestock products</td>\n",
       "      <td>4</td>\n",
       "      <td>Afghanistan</td>\n",
       "      <td>5610</td>\n",
       "      <td>Import Quantity</td>\n",
       "      <td>F1944</td>\n",
       "      <td>Cereals</td>\n",
       "      <td>2019</td>\n",
       "      <td>2019</td>\n",
       "      <td>tonnes</td>\n",
       "      <td>682433.0</td>\n",
       "      <td>E</td>\n",
       "      <td>Estimated value</td>\n",
       "    </tr>\n",
       "    <tr>\n",
       "      <th>1</th>\n",
       "      <td>TCL</td>\n",
       "      <td>Crops and livestock products</td>\n",
       "      <td>4</td>\n",
       "      <td>Afghanistan</td>\n",
       "      <td>5610</td>\n",
       "      <td>Import Quantity</td>\n",
       "      <td>F1944</td>\n",
       "      <td>Cereals</td>\n",
       "      <td>2020</td>\n",
       "      <td>2020</td>\n",
       "      <td>tonnes</td>\n",
       "      <td>897723.0</td>\n",
       "      <td>E</td>\n",
       "      <td>Estimated value</td>\n",
       "    </tr>\n",
       "    <tr>\n",
       "      <th>2</th>\n",
       "      <td>TCL</td>\n",
       "      <td>Crops and livestock products</td>\n",
       "      <td>4</td>\n",
       "      <td>Afghanistan</td>\n",
       "      <td>5910</td>\n",
       "      <td>Export Quantity</td>\n",
       "      <td>F1944</td>\n",
       "      <td>Cereals</td>\n",
       "      <td>2019</td>\n",
       "      <td>2019</td>\n",
       "      <td>tonnes</td>\n",
       "      <td>12939.0</td>\n",
       "      <td>E</td>\n",
       "      <td>Estimated value</td>\n",
       "    </tr>\n",
       "    <tr>\n",
       "      <th>3</th>\n",
       "      <td>TCL</td>\n",
       "      <td>Crops and livestock products</td>\n",
       "      <td>4</td>\n",
       "      <td>Afghanistan</td>\n",
       "      <td>5910</td>\n",
       "      <td>Export Quantity</td>\n",
       "      <td>F1944</td>\n",
       "      <td>Cereals</td>\n",
       "      <td>2020</td>\n",
       "      <td>2020</td>\n",
       "      <td>tonnes</td>\n",
       "      <td>9041.0</td>\n",
       "      <td>E</td>\n",
       "      <td>Estimated value</td>\n",
       "    </tr>\n",
       "    <tr>\n",
       "      <th>4</th>\n",
       "      <td>TCL</td>\n",
       "      <td>Crops and livestock products</td>\n",
       "      <td>8</td>\n",
       "      <td>Albania</td>\n",
       "      <td>5610</td>\n",
       "      <td>Import Quantity</td>\n",
       "      <td>F1944</td>\n",
       "      <td>Cereals</td>\n",
       "      <td>2019</td>\n",
       "      <td>2019</td>\n",
       "      <td>tonnes</td>\n",
       "      <td>356140.0</td>\n",
       "      <td>E</td>\n",
       "      <td>Estimated value</td>\n",
       "    </tr>\n",
       "  </tbody>\n",
       "</table>\n",
       "</div>"
      ],
      "text/plain": [
       "  Domain Code                        Domain  Area Code (M49)         Area  \\\n",
       "0         TCL  Crops and livestock products                4  Afghanistan   \n",
       "1         TCL  Crops and livestock products                4  Afghanistan   \n",
       "2         TCL  Crops and livestock products                4  Afghanistan   \n",
       "3         TCL  Crops and livestock products                4  Afghanistan   \n",
       "4         TCL  Crops and livestock products                8      Albania   \n",
       "\n",
       "   Element Code          Element Item Code (CPC)     Item  Year Code  Year  \\\n",
       "0          5610  Import Quantity           F1944  Cereals       2019  2019   \n",
       "1          5610  Import Quantity           F1944  Cereals       2020  2020   \n",
       "2          5910  Export Quantity           F1944  Cereals       2019  2019   \n",
       "3          5910  Export Quantity           F1944  Cereals       2020  2020   \n",
       "4          5610  Import Quantity           F1944  Cereals       2019  2019   \n",
       "\n",
       "     Unit     Value Flag Flag Description  \n",
       "0  tonnes  682433.0    E  Estimated value  \n",
       "1  tonnes  897723.0    E  Estimated value  \n",
       "2  tonnes   12939.0    E  Estimated value  \n",
       "3  tonnes    9041.0    E  Estimated value  \n",
       "4  tonnes  356140.0    E  Estimated value  "
      ]
     },
     "execution_count": 16,
     "metadata": {},
     "output_type": "execute_result"
    }
   ],
   "source": [
    "df_import_exports = pd.read_csv('2019-2020/Import_export_cereals.csv')\n",
    "df_import_exports.head()"
   ]
  },
  {
   "cell_type": "code",
   "execution_count": 17,
   "metadata": {},
   "outputs": [
    {
     "data": {
      "text/html": [
       "<div>\n",
       "<style scoped>\n",
       "    .dataframe tbody tr th:only-of-type {\n",
       "        vertical-align: middle;\n",
       "    }\n",
       "\n",
       "    .dataframe tbody tr th {\n",
       "        vertical-align: top;\n",
       "    }\n",
       "\n",
       "    .dataframe thead th {\n",
       "        text-align: right;\n",
       "    }\n",
       "</style>\n",
       "<table border=\"1\" class=\"dataframe\">\n",
       "  <thead>\n",
       "    <tr style=\"text-align: right;\">\n",
       "      <th></th>\n",
       "      <th>Area Code (M49)</th>\n",
       "      <th>Year</th>\n",
       "      <th>Imports</th>\n",
       "      <th>Exports</th>\n",
       "      <th>Net imports</th>\n",
       "    </tr>\n",
       "  </thead>\n",
       "  <tbody>\n",
       "    <tr>\n",
       "      <th>0</th>\n",
       "      <td>4</td>\n",
       "      <td>2019</td>\n",
       "      <td>682433.0</td>\n",
       "      <td>12939.0</td>\n",
       "      <td>669494.0</td>\n",
       "    </tr>\n",
       "    <tr>\n",
       "      <th>1</th>\n",
       "      <td>4</td>\n",
       "      <td>2020</td>\n",
       "      <td>897723.0</td>\n",
       "      <td>9041.0</td>\n",
       "      <td>888682.0</td>\n",
       "    </tr>\n",
       "    <tr>\n",
       "      <th>2</th>\n",
       "      <td>8</td>\n",
       "      <td>2019</td>\n",
       "      <td>356140.0</td>\n",
       "      <td>18.0</td>\n",
       "      <td>356122.0</td>\n",
       "    </tr>\n",
       "    <tr>\n",
       "      <th>3</th>\n",
       "      <td>8</td>\n",
       "      <td>2020</td>\n",
       "      <td>343876.0</td>\n",
       "      <td>0.0</td>\n",
       "      <td>343876.0</td>\n",
       "    </tr>\n",
       "    <tr>\n",
       "      <th>4</th>\n",
       "      <td>12</td>\n",
       "      <td>2019</td>\n",
       "      <td>11385668.0</td>\n",
       "      <td>328.0</td>\n",
       "      <td>11385340.0</td>\n",
       "    </tr>\n",
       "  </tbody>\n",
       "</table>\n",
       "</div>"
      ],
      "text/plain": [
       "   Area Code (M49)  Year     Imports  Exports  Net imports\n",
       "0                4  2019    682433.0  12939.0     669494.0\n",
       "1                4  2020    897723.0   9041.0     888682.0\n",
       "2                8  2019    356140.0     18.0     356122.0\n",
       "3                8  2020    343876.0      0.0     343876.0\n",
       "4               12  2019  11385668.0    328.0   11385340.0"
      ]
     },
     "execution_count": 17,
     "metadata": {},
     "output_type": "execute_result"
    }
   ],
   "source": [
    "## clean cereals import and export data\n",
    "\n",
    "def clean_import_exports(df_in):\n",
    "    '''\n",
    "    extracts the imports and exports of cereals from FAO dataset\n",
    "    adds a calculated column for net imports\n",
    "    input: df_in output: df_out\n",
    "    creates a new column 'Net imports' with value 'Import' - 'Export'\n",
    "    '''\n",
    "\n",
    "    df_out = df_in.copy()\n",
    "    df_out = df_out[['Area Code (M49)', 'Element', 'Year', 'Value']]\n",
    "\n",
    "    ## create 2 new columns, one for imports and one for exports\n",
    "    df_out['Imports'] = np.nan\n",
    "    df_out['Exports'] = np.nan\n",
    "\n",
    "    ## fill the new columns with the correct values\n",
    "    for i in range(df_out.shape[0]):\n",
    "        if df_out.iloc[i]['Element'] == 'Import Quantity':\n",
    "            df_out.at[i, 'Imports'] = df_out.iloc[i]['Value']\n",
    "        elif df_out.iloc[i]['Element'] == 'Export Quantity':\n",
    "            df_out.at[i, 'Exports'] = df_out.iloc[i]['Value']\n",
    "    \n",
    "    ## drop the columns Element and Value\n",
    "    df_out = df_out.drop(['Element', 'Value'], axis=1)\n",
    "\n",
    "    ## combine rows with the same year and area code\n",
    "    df_out = df_out.groupby(['Area Code (M49)', 'Year']).sum().reset_index()\n",
    "\n",
    "    ## create a new column 'Net imports' with value 'Import' - 'Export'\n",
    "    df_out['Net imports'] = df_out['Imports'] - df_out['Exports']\n",
    "\n",
    "    return df_out\n",
    "\n",
    "df_import_exports_cleaned = clean_import_exports(df_import_exports)\n",
    "df_import_exports_cleaned.head()\n",
    "\n",
    "## import and export data is now cleaned"
   ]
  },
  {
   "cell_type": "code",
   "execution_count": 18,
   "metadata": {},
   "outputs": [
    {
     "data": {
      "text/html": [
       "<div>\n",
       "<style scoped>\n",
       "    .dataframe tbody tr th:only-of-type {\n",
       "        vertical-align: middle;\n",
       "    }\n",
       "\n",
       "    .dataframe tbody tr th {\n",
       "        vertical-align: top;\n",
       "    }\n",
       "\n",
       "    .dataframe thead th {\n",
       "        text-align: right;\n",
       "    }\n",
       "</style>\n",
       "<table border=\"1\" class=\"dataframe\">\n",
       "  <thead>\n",
       "    <tr style=\"text-align: right;\">\n",
       "      <th></th>\n",
       "      <th>Area Code (M49)</th>\n",
       "      <th>Year</th>\n",
       "      <th>Food Insecurity</th>\n",
       "      <th>GDP</th>\n",
       "      <th>Population</th>\n",
       "      <th>Food Production</th>\n",
       "      <th>Imports</th>\n",
       "      <th>Exports</th>\n",
       "      <th>Net imports</th>\n",
       "    </tr>\n",
       "  </thead>\n",
       "  <tbody>\n",
       "    <tr>\n",
       "      <th>0</th>\n",
       "      <td>4</td>\n",
       "      <td>2019</td>\n",
       "      <td>63.1</td>\n",
       "      <td>18904.490263</td>\n",
       "      <td>37212.970</td>\n",
       "      <td>5583461.0</td>\n",
       "      <td>682433.0</td>\n",
       "      <td>12939.0</td>\n",
       "      <td>669494.0</td>\n",
       "    </tr>\n",
       "    <tr>\n",
       "      <th>1</th>\n",
       "      <td>8</td>\n",
       "      <td>2019</td>\n",
       "      <td>33.8</td>\n",
       "      <td>15400.237155</td>\n",
       "      <td>2875.637</td>\n",
       "      <td>666065.0</td>\n",
       "      <td>356140.0</td>\n",
       "      <td>18.0</td>\n",
       "      <td>356122.0</td>\n",
       "    </tr>\n",
       "    <tr>\n",
       "      <th>2</th>\n",
       "      <td>12</td>\n",
       "      <td>2019</td>\n",
       "      <td>17.6</td>\n",
       "      <td>171158.234285</td>\n",
       "      <td>42319.750</td>\n",
       "      <td>5633586.0</td>\n",
       "      <td>11385668.0</td>\n",
       "      <td>328.0</td>\n",
       "      <td>11385340.0</td>\n",
       "    </tr>\n",
       "    <tr>\n",
       "      <th>3</th>\n",
       "      <td>24</td>\n",
       "      <td>2019</td>\n",
       "      <td>73.5</td>\n",
       "      <td>89417.189120</td>\n",
       "      <td>31808.179</td>\n",
       "      <td>2920433.0</td>\n",
       "      <td>828554.0</td>\n",
       "      <td>1978.0</td>\n",
       "      <td>826576.0</td>\n",
       "    </tr>\n",
       "    <tr>\n",
       "      <th>4</th>\n",
       "      <td>32</td>\n",
       "      <td>2019</td>\n",
       "      <td>35.8</td>\n",
       "      <td>445445.254556</td>\n",
       "      <td>44582.599</td>\n",
       "      <td>84534610.0</td>\n",
       "      <td>24868.0</td>\n",
       "      <td>49811872.0</td>\n",
       "      <td>-49787004.0</td>\n",
       "    </tr>\n",
       "  </tbody>\n",
       "</table>\n",
       "</div>"
      ],
      "text/plain": [
       "   Area Code (M49)  Year  Food Insecurity            GDP  Population  \\\n",
       "0                4  2019             63.1   18904.490263   37212.970   \n",
       "1                8  2019             33.8   15400.237155    2875.637   \n",
       "2               12  2019             17.6  171158.234285   42319.750   \n",
       "3               24  2019             73.5   89417.189120   31808.179   \n",
       "4               32  2019             35.8  445445.254556   44582.599   \n",
       "\n",
       "   Food Production     Imports     Exports  Net imports  \n",
       "0        5583461.0    682433.0     12939.0     669494.0  \n",
       "1         666065.0    356140.0        18.0     356122.0  \n",
       "2        5633586.0  11385668.0       328.0   11385340.0  \n",
       "3        2920433.0    828554.0      1978.0     826576.0  \n",
       "4       84534610.0     24868.0  49811872.0  -49787004.0  "
      ]
     },
     "execution_count": 18,
     "metadata": {},
     "output_type": "execute_result"
    }
   ],
   "source": [
    "## lastly merge all dataframes (food insecurity, gdp, world population, food production, import and export) into one dataframe\n",
    "\n",
    "df_all = pd.merge(df_food_insecurity_cleaned, df_GDP_cleaned, on=['Area Code (M49)', 'Year'])\n",
    "df_all = pd.merge(df_all, df_world_population_cleaned, on=['Area Code (M49)', 'Year'])\n",
    "df_all = pd.merge(df_all, df_food_production_cleaned, on=['Area Code (M49)', 'Year'])\n",
    "df_all = pd.merge(df_all, df_import_exports_cleaned, on=['Area Code (M49)', 'Year'])\n",
    "\n",
    "df_all.head()"
   ]
  },
  {
   "cell_type": "code",
   "execution_count": 19,
   "metadata": {},
   "outputs": [],
   "source": [
    "df_all['Food production per capita'] = df_all['Food Production'] / df_all['Population']\n",
    "df_all['Net imports per capita'] = df_all['Net imports'] / df_all['Population']\n",
    "df_all['GDP per capita'] = df_all['GDP'] / df_all['Population']"
   ]
  },
  {
   "cell_type": "code",
   "execution_count": 20,
   "metadata": {},
   "outputs": [
    {
     "data": {
      "text/html": [
       "<div>\n",
       "<style scoped>\n",
       "    .dataframe tbody tr th:only-of-type {\n",
       "        vertical-align: middle;\n",
       "    }\n",
       "\n",
       "    .dataframe tbody tr th {\n",
       "        vertical-align: top;\n",
       "    }\n",
       "\n",
       "    .dataframe thead th {\n",
       "        text-align: right;\n",
       "    }\n",
       "</style>\n",
       "<table border=\"1\" class=\"dataframe\">\n",
       "  <thead>\n",
       "    <tr style=\"text-align: right;\">\n",
       "      <th></th>\n",
       "      <th>Area Code (M49)</th>\n",
       "      <th>Year</th>\n",
       "      <th>Food Insecurity</th>\n",
       "      <th>GDP</th>\n",
       "      <th>Population</th>\n",
       "      <th>Food Production</th>\n",
       "      <th>Imports</th>\n",
       "      <th>Exports</th>\n",
       "      <th>Net imports</th>\n",
       "      <th>Food production per capita</th>\n",
       "      <th>Net imports per capita</th>\n",
       "      <th>GDP per capita</th>\n",
       "    </tr>\n",
       "  </thead>\n",
       "  <tbody>\n",
       "    <tr>\n",
       "      <th>0</th>\n",
       "      <td>4</td>\n",
       "      <td>2019</td>\n",
       "      <td>63.1</td>\n",
       "      <td>18904.490263</td>\n",
       "      <td>37212.970</td>\n",
       "      <td>5583461.0</td>\n",
       "      <td>682433.0</td>\n",
       "      <td>12939.0</td>\n",
       "      <td>669494.0</td>\n",
       "      <td>150.040725</td>\n",
       "      <td>17.990878</td>\n",
       "      <td>0.508008</td>\n",
       "    </tr>\n",
       "    <tr>\n",
       "      <th>1</th>\n",
       "      <td>8</td>\n",
       "      <td>2019</td>\n",
       "      <td>33.8</td>\n",
       "      <td>15400.237155</td>\n",
       "      <td>2875.637</td>\n",
       "      <td>666065.0</td>\n",
       "      <td>356140.0</td>\n",
       "      <td>18.0</td>\n",
       "      <td>356122.0</td>\n",
       "      <td>231.623463</td>\n",
       "      <td>123.841083</td>\n",
       "      <td>5.355418</td>\n",
       "    </tr>\n",
       "    <tr>\n",
       "      <th>2</th>\n",
       "      <td>12</td>\n",
       "      <td>2019</td>\n",
       "      <td>17.6</td>\n",
       "      <td>171158.234285</td>\n",
       "      <td>42319.750</td>\n",
       "      <td>5633586.0</td>\n",
       "      <td>11385668.0</td>\n",
       "      <td>328.0</td>\n",
       "      <td>11385340.0</td>\n",
       "      <td>133.119548</td>\n",
       "      <td>269.031362</td>\n",
       "      <td>4.044406</td>\n",
       "    </tr>\n",
       "    <tr>\n",
       "      <th>3</th>\n",
       "      <td>24</td>\n",
       "      <td>2019</td>\n",
       "      <td>73.5</td>\n",
       "      <td>89417.189120</td>\n",
       "      <td>31808.179</td>\n",
       "      <td>2920433.0</td>\n",
       "      <td>828554.0</td>\n",
       "      <td>1978.0</td>\n",
       "      <td>826576.0</td>\n",
       "      <td>91.813901</td>\n",
       "      <td>25.986272</td>\n",
       "      <td>2.811138</td>\n",
       "    </tr>\n",
       "    <tr>\n",
       "      <th>4</th>\n",
       "      <td>32</td>\n",
       "      <td>2019</td>\n",
       "      <td>35.8</td>\n",
       "      <td>445445.254556</td>\n",
       "      <td>44582.599</td>\n",
       "      <td>84534610.0</td>\n",
       "      <td>24868.0</td>\n",
       "      <td>49811872.0</td>\n",
       "      <td>-49787004.0</td>\n",
       "      <td>1896.134633</td>\n",
       "      <td>-1116.736241</td>\n",
       "      <td>9.991460</td>\n",
       "    </tr>\n",
       "  </tbody>\n",
       "</table>\n",
       "</div>"
      ],
      "text/plain": [
       "   Area Code (M49)  Year  Food Insecurity            GDP  Population  \\\n",
       "0                4  2019             63.1   18904.490263   37212.970   \n",
       "1                8  2019             33.8   15400.237155    2875.637   \n",
       "2               12  2019             17.6  171158.234285   42319.750   \n",
       "3               24  2019             73.5   89417.189120   31808.179   \n",
       "4               32  2019             35.8  445445.254556   44582.599   \n",
       "\n",
       "   Food Production     Imports     Exports  Net imports  \\\n",
       "0        5583461.0    682433.0     12939.0     669494.0   \n",
       "1         666065.0    356140.0        18.0     356122.0   \n",
       "2        5633586.0  11385668.0       328.0   11385340.0   \n",
       "3        2920433.0    828554.0      1978.0     826576.0   \n",
       "4       84534610.0     24868.0  49811872.0  -49787004.0   \n",
       "\n",
       "   Food production per capita  Net imports per capita  GDP per capita  \n",
       "0                  150.040725               17.990878        0.508008  \n",
       "1                  231.623463              123.841083        5.355418  \n",
       "2                  133.119548              269.031362        4.044406  \n",
       "3                   91.813901               25.986272        2.811138  \n",
       "4                 1896.134633            -1116.736241        9.991460  "
      ]
     },
     "execution_count": 20,
     "metadata": {},
     "output_type": "execute_result"
    }
   ],
   "source": [
    "df_all.head()"
   ]
  },
  {
   "cell_type": "code",
   "execution_count": 21,
   "metadata": {},
   "outputs": [
    {
     "data": {
      "text/plain": [
       "(130, 12)"
      ]
     },
     "execution_count": 21,
     "metadata": {},
     "output_type": "execute_result"
    }
   ],
   "source": [
    "df_all.shape"
   ]
  },
  {
   "cell_type": "code",
   "execution_count": 22,
   "metadata": {},
   "outputs": [
    {
     "data": {
      "text/plain": [
       "(130, 3)"
      ]
     },
     "execution_count": 22,
     "metadata": {},
     "output_type": "execute_result"
    }
   ],
   "source": [
    "## create linear regression model\n",
    "features = ['GDP per capita', 'Food production per capita', 'Net imports per capita']\n",
    "target = ['Food Insecurity']\n",
    "\n",
    "df_features, df_target = get_features_targets(df_all, features, target)\n",
    "\n",
    "df_features_z = normalize_z(df_features)\n",
    "\n",
    "df_features_z.shape"
   ]
  },
  {
   "cell_type": "code",
   "execution_count": 23,
   "metadata": {},
   "outputs": [
    {
     "data": {
      "text/plain": [
       "<matplotlib.collections.PathCollection at 0x1b85d937e80>"
      ]
     },
     "execution_count": 23,
     "metadata": {},
     "output_type": "execute_result"
    },
    {
     "data": {
      "image/png": "[encoded data removed]",
      "text/plain": [
       "<Figure size 432x288 with 1 Axes>"
      ]
     },
     "metadata": {
      "needs_background": "light"
     },
     "output_type": "display_data"
    }
   ],
   "source": [
    "plt.scatter(df_features_z['GDP per capita'], df_target['Food Insecurity'], color='red')"
   ]
  },
  {
   "cell_type": "markdown",
   "metadata": {},
   "source": [
    "There is a possible y = 1/x relationship between food insecurity and GDP per capita."
   ]
  },
  {
   "cell_type": "code",
   "execution_count": 24,
   "metadata": {},
   "outputs": [
    {
     "data": {
      "text/plain": [
       "<matplotlib.collections.PathCollection at 0x1b85da49a60>"
      ]
     },
     "execution_count": 24,
     "metadata": {},
     "output_type": "execute_result"
    },
    {
     "data": {
      "image/png": "[encoded data removed]",
      "text/plain": [
       "<Figure size 432x288 with 1 Axes>"
      ]
     },
     "metadata": {
      "needs_background": "light"
     },
     "output_type": "display_data"
    }
   ],
   "source": [
    "plt.scatter(df_features_z['Food production per capita'], df_target['Food Insecurity'], color='blue')"
   ]
  },
  {
   "cell_type": "markdown",
   "metadata": {},
   "source": [
    "No clear relationship between food insecurity and Food production per capita."
   ]
  },
  {
   "cell_type": "code",
   "execution_count": 25,
   "metadata": {},
   "outputs": [
    {
     "data": {
      "text/plain": [
       "<matplotlib.collections.PathCollection at 0x1b85fee42e0>"
      ]
     },
     "execution_count": 25,
     "metadata": {},
     "output_type": "execute_result"
    },
    {
     "data": {
      "image/png": "[encoded data removed]",
      "text/plain": [
       "<Figure size 432x288 with 1 Axes>"
      ]
     },
     "metadata": {
      "needs_background": "light"
     },
     "output_type": "display_data"
    }
   ],
   "source": [
    "plt.scatter(df_features_z['Net imports per capita'], df_target['Food Insecurity'], color='green')"
   ]
  },
  {
   "cell_type": "markdown",
   "metadata": {},
   "source": [
    "No clear relationship between Net imports per capita and Food insecurity"
   ]
  },
  {
   "cell_type": "code",
   "execution_count": 26,
   "metadata": {},
   "outputs": [],
   "source": [
    "## trying out linear regression model\n",
    "## prepare features\n",
    "X = prepare_feature(df_features_z)\n",
    "target = prepare_target(df_target)"
   ]
  },
  {
   "cell_type": "code",
   "execution_count": 27,
   "metadata": {},
   "outputs": [
    {
     "data": {
      "text/plain": [
       "[<matplotlib.lines.Line2D at 0x1b85ff47250>]"
      ]
     },
     "execution_count": 27,
     "metadata": {},
     "output_type": "execute_result"
    },
    {
     "data": {
      "image/png": "[encoded data removed]",
      "text/plain": [
       "<Figure size 432x288 with 1 Axes>"
      ]
     },
     "metadata": {
      "needs_background": "light"
     },
     "output_type": "display_data"
    }
   ],
   "source": [
    "beta = np.zeros((4,1))\n",
    "alpha = 0.002\n",
    "n_iterations = 3000\n",
    "\n",
    "beta, J_storage = gradient_descent(X, target, beta, alpha, n_iterations)\n",
    "\n",
    "plt.plot(range(n_iterations), J_storage)"
   ]
  },
  {
   "cell_type": "markdown",
   "metadata": {},
   "source": [
    "<h2>Model 1</h2>\n",
    "<h3>All features are linearly correlated with target, no assumptions about independence of features.</h3>"
   ]
  },
  {
   "cell_type": "code",
   "execution_count": 28,
   "metadata": {},
   "outputs": [
    {
     "name": "stdout",
     "output_type": "stream",
     "text": [
      "(104, 4)\n",
      "(104, 1)\n"
     ]
    }
   ],
   "source": [
    "## split the data into training and test sets\n",
    "df_features_train, df_feature_test, df_target_train, df_target_test = split_data(df_features_z, df_target, test_size=0.2)\n",
    "\n",
    "## normalize the training features\n",
    "df_features_train_z = normalize_z(df_features_train)\n",
    "\n",
    "X_train = prepare_feature(df_features_train_z)\n",
    "target_train = prepare_target(df_target_train)\n",
    "\n",
    "print(X_train.shape)\n",
    "print(target_train.shape)\n"
   ]
  },
  {
   "cell_type": "code",
   "execution_count": 29,
   "metadata": {},
   "outputs": [],
   "source": [
    "iterations = 1500\n",
    "alpha = 0.01\n",
    "beta = np.zeros((4,1))\n",
    "\n",
    "# Call the gradient_descent function\n",
    "beta, J_storage = gradient_descent(X_train, target_train, beta, alpha, iterations)\n",
    "\n",
    "# call the predict() method\n",
    "pred = predict(df_feature_test, beta)"
   ]
  },
  {
   "cell_type": "code",
   "execution_count": 30,
   "metadata": {},
   "outputs": [
    {
     "data": {
      "text/plain": [
       "[<matplotlib.lines.Line2D at 0x1b85ffa5850>]"
      ]
     },
     "execution_count": 30,
     "metadata": {},
     "output_type": "execute_result"
    },
    {
     "data": {
      "image/png": "[encoded data removed]",
      "text/plain": [
       "<Figure size 432x288 with 1 Axes>"
      ]
     },
     "metadata": {
      "needs_background": "light"
     },
     "output_type": "display_data"
    }
   ],
   "source": [
    "plt.plot(range(iterations), J_storage)"
   ]
  },
  {
   "cell_type": "code",
   "execution_count": 31,
   "metadata": {},
   "outputs": [
    {
     "data": {
      "text/plain": [
       "<matplotlib.collections.PathCollection at 0x1b86000fe50>"
      ]
     },
     "execution_count": 31,
     "metadata": {},
     "output_type": "execute_result"
    },
    {
     "data": {
      "image/png": "[encoded data removed]",
      "text/plain": [
       "<Figure size 432x288 with 1 Axes>"
      ]
     },
     "metadata": {
      "needs_background": "light"
     },
     "output_type": "display_data"
    }
   ],
   "source": [
    "plt.scatter(df_feature_test['GDP per capita'], df_target_test)\n",
    "plt.scatter(df_feature_test['GDP per capita'], pred)"
   ]
  },
  {
   "cell_type": "code",
   "execution_count": 32,
   "metadata": {},
   "outputs": [
    {
     "name": "stdout",
     "output_type": "stream",
     "text": [
      "beta :  [[ 29.54037624]\n",
      " [ -9.87915396]\n",
      " [-14.76717943]\n",
      " [ -9.29442333]]\n",
      "Mean squared error:  [270.53493797]\n",
      "R2 score:  [0.52677673]\n"
     ]
    }
   ],
   "source": [
    "## finding the mean square error and r2 score\n",
    "\n",
    "target_test = prepare_target(df_target_test)\n",
    "\n",
    "mse = mean_squared_error(target_test, pred)\n",
    "\n",
    "r2_score(target_test, pred)\n",
    "\n",
    "print('beta : ', beta)\n",
    "\n",
    "print('Mean squared error: ', mse)\n",
    "print('R2 score: ', r2_score(target_test, pred))\n",
    "\n",
    "## first model is complete"
   ]
  },
  {
   "cell_type": "markdown",
   "metadata": {},
   "source": [
    "<h2>Model 2:</h2>\n",
    "<h3>GDP per capita is inversely proportional to food insecurity, the rest is linearly correlated.</h3>"
   ]
  },
  {
   "cell_type": "code",
   "execution_count": 33,
   "metadata": {},
   "outputs": [
    {
     "data": {
      "text/html": [
       "<div>\n",
       "<style scoped>\n",
       "    .dataframe tbody tr th:only-of-type {\n",
       "        vertical-align: middle;\n",
       "    }\n",
       "\n",
       "    .dataframe tbody tr th {\n",
       "        vertical-align: top;\n",
       "    }\n",
       "\n",
       "    .dataframe thead th {\n",
       "        text-align: right;\n",
       "    }\n",
       "</style>\n",
       "<table border=\"1\" class=\"dataframe\">\n",
       "  <thead>\n",
       "    <tr style=\"text-align: right;\">\n",
       "      <th></th>\n",
       "      <th>Area Code (M49)</th>\n",
       "      <th>Year</th>\n",
       "      <th>Food Insecurity</th>\n",
       "      <th>GDP</th>\n",
       "      <th>Population</th>\n",
       "      <th>Food Production</th>\n",
       "      <th>Imports</th>\n",
       "      <th>Exports</th>\n",
       "      <th>Net imports</th>\n",
       "      <th>Food production per capita</th>\n",
       "      <th>Net imports per capita</th>\n",
       "      <th>GDP per capita</th>\n",
       "    </tr>\n",
       "  </thead>\n",
       "  <tbody>\n",
       "    <tr>\n",
       "      <th>0</th>\n",
       "      <td>4</td>\n",
       "      <td>2019</td>\n",
       "      <td>63.1</td>\n",
       "      <td>18904.490263</td>\n",
       "      <td>37212.970</td>\n",
       "      <td>5583461.0</td>\n",
       "      <td>682433.0</td>\n",
       "      <td>12939.0</td>\n",
       "      <td>669494.0</td>\n",
       "      <td>150.040725</td>\n",
       "      <td>17.990878</td>\n",
       "      <td>0.508008</td>\n",
       "    </tr>\n",
       "    <tr>\n",
       "      <th>1</th>\n",
       "      <td>8</td>\n",
       "      <td>2019</td>\n",
       "      <td>33.8</td>\n",
       "      <td>15400.237155</td>\n",
       "      <td>2875.637</td>\n",
       "      <td>666065.0</td>\n",
       "      <td>356140.0</td>\n",
       "      <td>18.0</td>\n",
       "      <td>356122.0</td>\n",
       "      <td>231.623463</td>\n",
       "      <td>123.841083</td>\n",
       "      <td>5.355418</td>\n",
       "    </tr>\n",
       "    <tr>\n",
       "      <th>2</th>\n",
       "      <td>12</td>\n",
       "      <td>2019</td>\n",
       "      <td>17.6</td>\n",
       "      <td>171158.234285</td>\n",
       "      <td>42319.750</td>\n",
       "      <td>5633586.0</td>\n",
       "      <td>11385668.0</td>\n",
       "      <td>328.0</td>\n",
       "      <td>11385340.0</td>\n",
       "      <td>133.119548</td>\n",
       "      <td>269.031362</td>\n",
       "      <td>4.044406</td>\n",
       "    </tr>\n",
       "    <tr>\n",
       "      <th>3</th>\n",
       "      <td>24</td>\n",
       "      <td>2019</td>\n",
       "      <td>73.5</td>\n",
       "      <td>89417.189120</td>\n",
       "      <td>31808.179</td>\n",
       "      <td>2920433.0</td>\n",
       "      <td>828554.0</td>\n",
       "      <td>1978.0</td>\n",
       "      <td>826576.0</td>\n",
       "      <td>91.813901</td>\n",
       "      <td>25.986272</td>\n",
       "      <td>2.811138</td>\n",
       "    </tr>\n",
       "    <tr>\n",
       "      <th>4</th>\n",
       "      <td>32</td>\n",
       "      <td>2019</td>\n",
       "      <td>35.8</td>\n",
       "      <td>445445.254556</td>\n",
       "      <td>44582.599</td>\n",
       "      <td>84534610.0</td>\n",
       "      <td>24868.0</td>\n",
       "      <td>49811872.0</td>\n",
       "      <td>-49787004.0</td>\n",
       "      <td>1896.134633</td>\n",
       "      <td>-1116.736241</td>\n",
       "      <td>9.991460</td>\n",
       "    </tr>\n",
       "  </tbody>\n",
       "</table>\n",
       "</div>"
      ],
      "text/plain": [
       "   Area Code (M49)  Year  Food Insecurity            GDP  Population  \\\n",
       "0                4  2019             63.1   18904.490263   37212.970   \n",
       "1                8  2019             33.8   15400.237155    2875.637   \n",
       "2               12  2019             17.6  171158.234285   42319.750   \n",
       "3               24  2019             73.5   89417.189120   31808.179   \n",
       "4               32  2019             35.8  445445.254556   44582.599   \n",
       "\n",
       "   Food Production     Imports     Exports  Net imports  \\\n",
       "0        5583461.0    682433.0     12939.0     669494.0   \n",
       "1         666065.0    356140.0        18.0     356122.0   \n",
       "2        5633586.0  11385668.0       328.0   11385340.0   \n",
       "3        2920433.0    828554.0      1978.0     826576.0   \n",
       "4       84534610.0     24868.0  49811872.0  -49787004.0   \n",
       "\n",
       "   Food production per capita  Net imports per capita  GDP per capita  \n",
       "0                  150.040725               17.990878        0.508008  \n",
       "1                  231.623463              123.841083        5.355418  \n",
       "2                  133.119548              269.031362        4.044406  \n",
       "3                   91.813901               25.986272        2.811138  \n",
       "4                 1896.134633            -1116.736241        9.991460  "
      ]
     },
     "execution_count": 33,
     "metadata": {},
     "output_type": "execute_result"
    }
   ],
   "source": [
    "df_all.head()"
   ]
  },
  {
   "cell_type": "code",
   "execution_count": 34,
   "metadata": {},
   "outputs": [],
   "source": [
    "def transform_1_over_x(dfin, column_name):\n",
    "    '''input: dfin, column_name\n",
    "    output: dfin\n",
    "    creates a new column with the name '1/column_name'\n",
    "    '''\n",
    "    dfin['1/' + column_name] = 1 / dfin[column_name]\n",
    "    return dfin"
   ]
  },
  {
   "cell_type": "code",
   "execution_count": 35,
   "metadata": {},
   "outputs": [],
   "source": [
    "## get the transformed values for GDP per capita and food production per capita\n",
    "df_all_transformed = transform_1_over_x(df_all, 'GDP per capita')\n",
    "df_all_transformed = transform_1_over_x(df_all_transformed, 'Food production per capita')"
   ]
  },
  {
   "cell_type": "code",
   "execution_count": 36,
   "metadata": {},
   "outputs": [
    {
     "data": {
      "text/plain": [
       "<matplotlib.collections.PathCollection at 0x1b860083430>"
      ]
     },
     "execution_count": 36,
     "metadata": {},
     "output_type": "execute_result"
    },
    {
     "data": {
      "image/png": "[encoded data removed]",
      "text/plain": [
       "<Figure size 432x288 with 1 Axes>"
      ]
     },
     "metadata": {
      "needs_background": "light"
     },
     "output_type": "display_data"
    }
   ],
   "source": [
    "plt.scatter(df_all_transformed['Food Insecurity'], df_all_transformed['1/GDP per capita'], color='red')"
   ]
  },
  {
   "cell_type": "code",
   "execution_count": 37,
   "metadata": {},
   "outputs": [
    {
     "data": {
      "text/plain": [
       "<matplotlib.collections.PathCollection at 0x1b8600d6dc0>"
      ]
     },
     "execution_count": 37,
     "metadata": {},
     "output_type": "execute_result"
    },
    {
     "data": {
      "image/png": "[encoded data removed]",
      "text/plain": [
       "<Figure size 432x288 with 1 Axes>"
      ]
     },
     "metadata": {
      "needs_background": "light"
     },
     "output_type": "display_data"
    }
   ],
   "source": [
    "plt.scatter(df_all_transformed['Food Insecurity'], df_all_transformed['1/Food production per capita'], color='blue')"
   ]
  },
  {
   "cell_type": "markdown",
   "metadata": {},
   "source": [
    "Unclear y = 1/x relationship between food insecurity and food production per capita"
   ]
  },
  {
   "cell_type": "code",
   "execution_count": 38,
   "metadata": {},
   "outputs": [
    {
     "data": {
      "text/html": [
       "<div>\n",
       "<style scoped>\n",
       "    .dataframe tbody tr th:only-of-type {\n",
       "        vertical-align: middle;\n",
       "    }\n",
       "\n",
       "    .dataframe tbody tr th {\n",
       "        vertical-align: top;\n",
       "    }\n",
       "\n",
       "    .dataframe thead th {\n",
       "        text-align: right;\n",
       "    }\n",
       "</style>\n",
       "<table border=\"1\" class=\"dataframe\">\n",
       "  <thead>\n",
       "    <tr style=\"text-align: right;\">\n",
       "      <th></th>\n",
       "      <th>Area Code (M49)</th>\n",
       "      <th>Year</th>\n",
       "      <th>Food Insecurity</th>\n",
       "      <th>GDP</th>\n",
       "      <th>Population</th>\n",
       "      <th>Food Production</th>\n",
       "      <th>Imports</th>\n",
       "      <th>Exports</th>\n",
       "      <th>Net imports</th>\n",
       "      <th>Food production per capita</th>\n",
       "      <th>Net imports per capita</th>\n",
       "      <th>GDP per capita</th>\n",
       "      <th>1/GDP per capita</th>\n",
       "      <th>1/Food production per capita</th>\n",
       "    </tr>\n",
       "  </thead>\n",
       "  <tbody>\n",
       "    <tr>\n",
       "      <th>0</th>\n",
       "      <td>4</td>\n",
       "      <td>2019</td>\n",
       "      <td>63.1</td>\n",
       "      <td>18904.490263</td>\n",
       "      <td>37212.970</td>\n",
       "      <td>5583461.0</td>\n",
       "      <td>682433.0</td>\n",
       "      <td>12939.0</td>\n",
       "      <td>669494.0</td>\n",
       "      <td>150.040725</td>\n",
       "      <td>17.990878</td>\n",
       "      <td>0.508008</td>\n",
       "      <td>1.968473</td>\n",
       "      <td>0.006665</td>\n",
       "    </tr>\n",
       "    <tr>\n",
       "      <th>1</th>\n",
       "      <td>8</td>\n",
       "      <td>2019</td>\n",
       "      <td>33.8</td>\n",
       "      <td>15400.237155</td>\n",
       "      <td>2875.637</td>\n",
       "      <td>666065.0</td>\n",
       "      <td>356140.0</td>\n",
       "      <td>18.0</td>\n",
       "      <td>356122.0</td>\n",
       "      <td>231.623463</td>\n",
       "      <td>123.841083</td>\n",
       "      <td>5.355418</td>\n",
       "      <td>0.186727</td>\n",
       "      <td>0.004317</td>\n",
       "    </tr>\n",
       "    <tr>\n",
       "      <th>2</th>\n",
       "      <td>12</td>\n",
       "      <td>2019</td>\n",
       "      <td>17.6</td>\n",
       "      <td>171158.234285</td>\n",
       "      <td>42319.750</td>\n",
       "      <td>5633586.0</td>\n",
       "      <td>11385668.0</td>\n",
       "      <td>328.0</td>\n",
       "      <td>11385340.0</td>\n",
       "      <td>133.119548</td>\n",
       "      <td>269.031362</td>\n",
       "      <td>4.044406</td>\n",
       "      <td>0.247255</td>\n",
       "      <td>0.007512</td>\n",
       "    </tr>\n",
       "    <tr>\n",
       "      <th>3</th>\n",
       "      <td>24</td>\n",
       "      <td>2019</td>\n",
       "      <td>73.5</td>\n",
       "      <td>89417.189120</td>\n",
       "      <td>31808.179</td>\n",
       "      <td>2920433.0</td>\n",
       "      <td>828554.0</td>\n",
       "      <td>1978.0</td>\n",
       "      <td>826576.0</td>\n",
       "      <td>91.813901</td>\n",
       "      <td>25.986272</td>\n",
       "      <td>2.811138</td>\n",
       "      <td>0.355728</td>\n",
       "      <td>0.010892</td>\n",
       "    </tr>\n",
       "    <tr>\n",
       "      <th>4</th>\n",
       "      <td>32</td>\n",
       "      <td>2019</td>\n",
       "      <td>35.8</td>\n",
       "      <td>445445.254556</td>\n",
       "      <td>44582.599</td>\n",
       "      <td>84534610.0</td>\n",
       "      <td>24868.0</td>\n",
       "      <td>49811872.0</td>\n",
       "      <td>-49787004.0</td>\n",
       "      <td>1896.134633</td>\n",
       "      <td>-1116.736241</td>\n",
       "      <td>9.991460</td>\n",
       "      <td>0.100085</td>\n",
       "      <td>0.000527</td>\n",
       "    </tr>\n",
       "  </tbody>\n",
       "</table>\n",
       "</div>"
      ],
      "text/plain": [
       "   Area Code (M49)  Year  Food Insecurity            GDP  Population  \\\n",
       "0                4  2019             63.1   18904.490263   37212.970   \n",
       "1                8  2019             33.8   15400.237155    2875.637   \n",
       "2               12  2019             17.6  171158.234285   42319.750   \n",
       "3               24  2019             73.5   89417.189120   31808.179   \n",
       "4               32  2019             35.8  445445.254556   44582.599   \n",
       "\n",
       "   Food Production     Imports     Exports  Net imports  \\\n",
       "0        5583461.0    682433.0     12939.0     669494.0   \n",
       "1         666065.0    356140.0        18.0     356122.0   \n",
       "2        5633586.0  11385668.0       328.0   11385340.0   \n",
       "3        2920433.0    828554.0      1978.0     826576.0   \n",
       "4       84534610.0     24868.0  49811872.0  -49787004.0   \n",
       "\n",
       "   Food production per capita  Net imports per capita  GDP per capita  \\\n",
       "0                  150.040725               17.990878        0.508008   \n",
       "1                  231.623463              123.841083        5.355418   \n",
       "2                  133.119548              269.031362        4.044406   \n",
       "3                   91.813901               25.986272        2.811138   \n",
       "4                 1896.134633            -1116.736241        9.991460   \n",
       "\n",
       "   1/GDP per capita  1/Food production per capita  \n",
       "0          1.968473                      0.006665  \n",
       "1          0.186727                      0.004317  \n",
       "2          0.247255                      0.007512  \n",
       "3          0.355728                      0.010892  \n",
       "4          0.100085                      0.000527  "
      ]
     },
     "execution_count": 38,
     "metadata": {},
     "output_type": "execute_result"
    }
   ],
   "source": [
    "df_all_transformed.head()"
   ]
  },
  {
   "cell_type": "code",
   "execution_count": 39,
   "metadata": {},
   "outputs": [
    {
     "data": {
      "text/html": [
       "<div>\n",
       "<style scoped>\n",
       "    .dataframe tbody tr th:only-of-type {\n",
       "        vertical-align: middle;\n",
       "    }\n",
       "\n",
       "    .dataframe tbody tr th {\n",
       "        vertical-align: top;\n",
       "    }\n",
       "\n",
       "    .dataframe thead th {\n",
       "        text-align: right;\n",
       "    }\n",
       "</style>\n",
       "<table border=\"1\" class=\"dataframe\">\n",
       "  <thead>\n",
       "    <tr style=\"text-align: right;\">\n",
       "      <th></th>\n",
       "      <th>1/GDP per capita</th>\n",
       "      <th>Food production per capita</th>\n",
       "      <th>Net imports per capita</th>\n",
       "    </tr>\n",
       "  </thead>\n",
       "  <tbody>\n",
       "    <tr>\n",
       "      <th>0</th>\n",
       "      <td>1.968473</td>\n",
       "      <td>150.040725</td>\n",
       "      <td>17.990878</td>\n",
       "    </tr>\n",
       "    <tr>\n",
       "      <th>1</th>\n",
       "      <td>0.186727</td>\n",
       "      <td>231.623463</td>\n",
       "      <td>123.841083</td>\n",
       "    </tr>\n",
       "    <tr>\n",
       "      <th>2</th>\n",
       "      <td>0.247255</td>\n",
       "      <td>133.119548</td>\n",
       "      <td>269.031362</td>\n",
       "    </tr>\n",
       "    <tr>\n",
       "      <th>3</th>\n",
       "      <td>0.355728</td>\n",
       "      <td>91.813901</td>\n",
       "      <td>25.986272</td>\n",
       "    </tr>\n",
       "    <tr>\n",
       "      <th>4</th>\n",
       "      <td>0.100085</td>\n",
       "      <td>1896.134633</td>\n",
       "      <td>-1116.736241</td>\n",
       "    </tr>\n",
       "  </tbody>\n",
       "</table>\n",
       "</div>"
      ],
      "text/plain": [
       "   1/GDP per capita  Food production per capita  Net imports per capita\n",
       "0          1.968473                  150.040725               17.990878\n",
       "1          0.186727                  231.623463              123.841083\n",
       "2          0.247255                  133.119548              269.031362\n",
       "3          0.355728                   91.813901               25.986272\n",
       "4          0.100085                 1896.134633            -1116.736241"
      ]
     },
     "execution_count": 39,
     "metadata": {},
     "output_type": "execute_result"
    }
   ],
   "source": [
    "features = ['1/GDP per capita', 'Food production per capita', 'Net imports per capita']\n",
    "target = ['Food Insecurity']\n",
    "df_features, df_target = get_features_targets(df_all_transformed, features, target)\n",
    "\n",
    "df_features.head()"
   ]
  },
  {
   "cell_type": "code",
   "execution_count": 40,
   "metadata": {},
   "outputs": [],
   "source": [
    "df_feature_train, df_feature_test, df_target_train, df_target_test = split_data(df_features, df_target, test_size=0.2)\n",
    "df_feature_train_z = normalize_z(df_feature_train)\n",
    "df_feature_test_z = normalize_z(df_feature_test)"
   ]
  },
  {
   "cell_type": "code",
   "execution_count": 41,
   "metadata": {},
   "outputs": [
    {
     "data": {
      "image/png": "[encoded data removed]",
      "text/plain": [
       "<Figure size 432x288 with 1 Axes>"
      ]
     },
     "metadata": {
      "needs_background": "light"
     },
     "output_type": "display_data"
    }
   ],
   "source": [
    "## train the model\n",
    "X_train = prepare_feature(df_feature_train_z)\n",
    "target_train = prepare_target(df_target_train)\n",
    "\n",
    "iterations = 4000\n",
    "alpha = 0.001\n",
    "beta = np.zeros((4,1))\n",
    "\n",
    "# Call the gradient_descent function\n",
    "beta, J_storage = gradient_descent(X_train, target_train, beta, alpha, iterations)\n",
    "\n",
    "plt.plot(range(iterations), J_storage)\n",
    "\n",
    "# call the predict() method\n",
    "pred = predict(df_feature_test, beta)\n",
    "\n",
    "# print(pred)"
   ]
  },
  {
   "cell_type": "code",
   "execution_count": 42,
   "metadata": {},
   "outputs": [
    {
     "data": {
      "text/plain": [
       "<matplotlib.collections.PathCollection at 0x1b8601b2460>"
      ]
     },
     "execution_count": 42,
     "metadata": {},
     "output_type": "execute_result"
    },
    {
     "data": {
      "image/png": "[encoded data removed]",
      "text/plain": [
       "<Figure size 432x288 with 1 Axes>"
      ]
     },
     "metadata": {
      "needs_background": "light"
     },
     "output_type": "display_data"
    }
   ],
   "source": [
    "plt.scatter(df_feature_test['1/GDP per capita'], df_target_test, color='red')\n",
    "plt.scatter(df_feature_test['1/GDP per capita'], pred, color='blue')"
   ]
  },
  {
   "cell_type": "code",
   "execution_count": 43,
   "metadata": {},
   "outputs": [
    {
     "name": "stdout",
     "output_type": "stream",
     "text": [
      "beta :  [[29.00041534]\n",
      " [15.56604499]\n",
      " [-7.58034025]\n",
      " [-4.46299718]]\n",
      "Mean squared error:  [192.92827966]\n",
      "R2 score:  [0.66252732]\n"
     ]
    }
   ],
   "source": [
    "## finding the mean square error and r2 score\n",
    "\n",
    "target_test = prepare_target(df_target_test)\n",
    "\n",
    "mse = mean_squared_error(target_test, pred)\n",
    "\n",
    "R2 = r2_score(target_test, pred)\n",
    "\n",
    "print('beta : ', beta)\n",
    "\n",
    "print('Mean squared error: ', mse)\n",
    "print('R2 score: ', R2)\n",
    "\n",
    "## second model is complete"
   ]
  },
  {
   "cell_type": "markdown",
   "metadata": {},
   "source": [
    "<h2>Analysis</h2>"
   ]
  },
  {
   "cell_type": "markdown",
   "metadata": {},
   "source": [
    "Model and Metrics before transformation:<br>\n",
    "Y = 29.5403762 + -9.87915396 X<sub>1</sub> + -14.76717943 X<sub>2</sub> + -9.29442333 X<sub>3</sub><br>\n",
    "Mean squared error:  [270.53493797]<br>\n",
    "R2 score:  [0.52677673]"
   ]
  },
  {
   "cell_type": "markdown",
   "metadata": {},
   "source": [
    "The first model shows that when GDP, Food production and Food imports decrease, the prevalence of moderate and severe food insecurity will increase.<br>\n",
    "The coefficients also imply that the Production of food is the most significant factor in affecting food insecurity, hence we have decided to focus<br>\n",
    "on that in notebook 2."
   ]
  },
  {
   "cell_type": "markdown",
   "metadata": {},
   "source": [
    "Model and Metrics after transformation:<br>\n",
    "Y = 29.00041534 + 15.56604499 X<sub>1</sub> + -7.58034025 X<sub>2</sub> + -4.46299718 X<sub>3</sub><br>\n",
    "Mean squared error:  [192.92827966]<br>\n",
    "R2 score:  [0.66252732]"
   ]
  },
  {
   "cell_type": "markdown",
   "metadata": {},
   "source": [
    "To achieve a higher R2 score, we have transformed the GDP to better fit a linear curve, hence this was evidently a success as the R2 score increased"
   ]
  },
  {
   "cell_type": "markdown",
   "metadata": {},
   "source": [
    "<p class='centre>Bibiliography</p><br>\n",
    "data taken from https://www.fao.org/faostat/en/#data"
   ]
  },
  {
   "cell_type": "markdown",
   "metadata": {},
   "source": [
    "Bibliography<br>\n",
    "https://www.fao.org/faostat/en/#data"
   ]
  },
  {
   "cell_type": "markdown",
   "metadata": {},
   "source": []
  }
 ],
 "metadata": {
  "kernelspec": {
   "display_name": "Python 3.9.7 64-bit",
   "language": "python",
   "name": "python3"
  },
  "language_info": {
   "codemirror_mode": {
    "name": "ipython",
    "version": 3
   },
   "file_extension": ".py",
   "mimetype": "text/x-python",
   "name": "python",
   "nbconvert_exporter": "python",
   "pygments_lexer": "ipython3",
   "version": "3.9.7"
  },
  "orig_nbformat": 4,
  "vscode": {
   "interpreter": {
    "hash": "fa3c120bdd7453dc644c4fd981676bb93717413a29749db468339fd6787a594f"
   }
  }
 },
 "nbformat": 4,
 "nbformat_minor": 2
}
