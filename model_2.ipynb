{
 "cells": [
  {
   "cell_type": "code",
   "execution_count": 1,
   "id": "548b7a36",
   "metadata": {},
   "outputs": [],
   "source": [
    "import numpy as np\n",
    "import pandas as pd\n",
    "import matplotlib.pyplot as plt\n",
    "import seaborn as sns"
   ]
  },
  {
   "cell_type": "code",
   "execution_count": 2,
   "id": "5a09fc60",
   "metadata": {},
   "outputs": [],
   "source": [
    "def normalize_z(df):\n",
    "    '''Input df, output dfout\n",
    "    Z Normalizes a dataframe'''\n",
    "    \n",
    "    dfout = df.copy()\n",
    "    dfout = (dfout - df.mean(axis=0)) / df.std(axis=0)\n",
    "    \n",
    "    return dfout\n",
    "\n",
    "# def min_max\n",
    "\n",
    "def get_features_targets(df, feature_names, target_names):\n",
    "    '''input: df, ['feature_names'], ['target_names']\n",
    "    output: df_feature, df_target'''\n",
    "    \n",
    "    df_feature = df[feature_names]\n",
    "    df_target = df[target_names]\n",
    "    \n",
    "#     print(type(df_feature))\n",
    "    \n",
    "    return df_feature, df_target\n",
    "\n",
    "\n",
    "def prepare_feature(df_feature):\n",
    "    '''prepares the feature\n",
    "    input: df_feature \\n output: prepared_df_feature'''\n",
    "    \n",
    "    # get the number of columns, number of features\n",
    "    cols = len(df_feature.columns)\n",
    "    \n",
    "    # shape the feature columns\n",
    "    # why -1 for row? Transpose\n",
    "    feature = df_feature.to_numpy().reshape(-1, cols)\n",
    "    rows = feature.shape[0] # get number of rows\n",
    "    \n",
    "    # create our ones\n",
    "    ones = np.ones((rows, 1))\n",
    "    \n",
    "    X = np.concatenate((ones, feature), axis=1)\n",
    "    \n",
    "    return X\n",
    "\n",
    "\n",
    "def prepare_target(df_target):\n",
    "    '''prepares the target\n",
    "    input: df_target\n",
    "    output: prepared_target'''\n",
    "    \n",
    "    cols = len(df_target.columns)\n",
    "    target = df_target.to_numpy().reshape(-1, cols)\n",
    "    return target\n",
    "\n",
    "\n",
    "def predict(df_feature, beta):\n",
    "    \n",
    "    # normalize and prepare the feature\n",
    "    X = prepare_feature(normalize_z(df_feature))\n",
    "    \n",
    "    return calc_linear(X, beta)\n",
    "\n",
    "\n",
    "def calc_linear(X, beta):\n",
    "    '''input: X, beta output: y= X cross B'''\n",
    "    \n",
    "    return np.matmul(X, beta)\n",
    "\n",
    "\n",
    "def gradient_descent(X, y, beta, alpha, num_iters):\n",
    "    '''input: X, y, beta, alpha, num_iters\n",
    "    output: beta, J_storage(list of all costs computed with using beta)'''\n",
    "    \n",
    "    # get number of rows\n",
    "    m = X.shape[0]\n",
    "    \n",
    "    # initialize J storage which stores all the successive iterations of cost function\n",
    "    J_storage = np.zeros((num_iters, 1))\n",
    "    \n",
    "    # compute cost and store in J_storage each succesive iteration of cost function\n",
    "    for n in range(num_iters):\n",
    "        deriv = np.matmul(X.T, (calc_linear(X, beta) - y))\n",
    "        beta = beta - alpha * (1/m) * deriv\n",
    "        J_storage[n] = compute_cost(X, y, beta)\n",
    "        \n",
    "    return beta, J_storage\n",
    "\n",
    "\n",
    "def compute_cost(X, y, beta):\n",
    "    \n",
    "    n = X.shape[0]\n",
    "    \n",
    "    # error = yhat - y\n",
    "    error = calc_linear(X, beta) - y\n",
    "    error_sq = np.matmul(error.T, error) # transpose the error matrix\n",
    "    # multiply by itself\n",
    "    \n",
    "    J = (1/(2*n)) * error_sq\n",
    "    \n",
    "    return J\n",
    "\n",
    "\n",
    "def split_data(df_feature, df_target, random_state=100, test_size=0.3):\n",
    "    '''splits data into training and testing\n",
    "    input: df_feature, df_target, random_state=100, test_size=0.3\n",
    "    output: df_feature_train, df_feature_test, df_target_train, df_target_test'''\n",
    "    np.random.seed(random_state)\n",
    "    n = len(df_feature)\n",
    "    \n",
    "    test_num = int(n * (test_size))\n",
    "    \n",
    "    test_idx = np.random.choice(n, test_num, replace=False) # all the indexes of the test indexes\n",
    "    train_idx = [i for i in range(n) if i not in test_idx]\n",
    "    \n",
    "    df_feature_test = df_feature.iloc[test_idx]\n",
    "    df_feature_train = df_feature.iloc[train_idx]\n",
    "    \n",
    "    df_target_test = df_target.iloc[test_idx]\n",
    "    df_target_train = df_target.iloc[train_idx]\n",
    "    \n",
    "    return df_feature_train, df_feature_test, df_target_train, df_target_test\n",
    "  \n",
    "    \n",
    "def r2_score(y, ypred):\n",
    "    '''finds the R^2 score\n",
    "    input y(np_array) actual values, ypred(np_array) predicted values\n",
    "    output R^2'''\n",
    "    \n",
    "    n = len(y)\n",
    "    \n",
    "    y_bar = np.mean(y)\n",
    "    \n",
    "    # SS_res = summation (true_y - y_pred)**2\n",
    "    SS_res = 0\n",
    "    for true_y, pred_y in zip(y, ypred):\n",
    "        SS_res += (true_y - pred_y)**2\n",
    "    \n",
    "    # SS_tot = summation (true_y - y_bar)**2\n",
    "    SS_tot = 0\n",
    "    for true_y in y:\n",
    "        SS_tot += (true_y - y_bar)**2    \n",
    "    \n",
    "    r_2 = 1 - (SS_res / SS_tot)\n",
    "    \n",
    "    return r_2\n",
    "    pass\n",
    "\n",
    "\n",
    "def mean_squared_error(target, pred):\n",
    "    '''finds the mean squared error\n",
    "    input target(np_array), pred(np_array)\n",
    "    output mean_squared_error'''\n",
    "    \n",
    "    n = len(target)\n",
    "    \n",
    "    # summation of (actual_y - y_cap)**2\n",
    "    MSE = 0\n",
    "    for actual_y, pred_y in zip(target, pred):\n",
    "        MSE += (actual_y - pred_y)**2\n",
    "    MSE /= n\n",
    "    \n",
    "    return MSE\n",
    "    pass"
   ]
  },
  {
   "cell_type": "code",
   "execution_count": 3,
   "id": "2f6d2639",
   "metadata": {},
   "outputs": [],
   "source": [
    "#read necessary files\n",
    "df_Phase1 = pd.read_csv('Phase1.csv')\n",
    "df_Education = pd.read_csv('Education.csv')\n",
    "df_Temperature = pd.read_csv('Temperature.csv')\n",
    "df_Emission = pd.read_csv('Emission.csv')\n",
    "df_Area = pd.read_csv('Area.csv')\n",
    "df_Population = pd.read_csv('Population.csv')"
   ]
  },
  {
   "cell_type": "code",
   "execution_count": 4,
   "id": "4eb9356f",
   "metadata": {},
   "outputs": [],
   "source": [
    "# The datas used in phase 1\n",
    "countries_phase1 = df_Phase1['Area']\n",
    "population = df_Phase1.loc[:,['Population(1000persons)']]"
   ]
  },
  {
   "cell_type": "code",
   "execution_count": 5,
   "id": "aa702899",
   "metadata": {},
   "outputs": [],
   "source": [
    "# To ectract the countries from files\n",
    "def extract_name(df):\n",
    "    name = []\n",
    "    for i in df:\n",
    "        name.append(i)\n",
    "    return name"
   ]
  },
  {
   "cell_type": "code",
   "execution_count": 6,
   "id": "400f978d",
   "metadata": {},
   "outputs": [
    {
     "name": "stdout",
     "output_type": "stream",
     "text": [
      "189 239 220 266\n"
     ]
    }
   ],
   "source": [
    "countries_ed = extract_name(df_Education['Area'].apply(lambda x: x[1::]))\n",
    "countries_temp = extract_name(df_Temperature['Area'])\n",
    "countries_em = extract_name(df_Emission['Area'])\n",
    "countries_area = extract_name(df_Area['Country Name'])\n",
    "print(len(countries_ed), len(countries_temp), len(countries_em), len(countries_area))"
   ]
  },
  {
   "cell_type": "code",
   "execution_count": 7,
   "id": "6df258e3",
   "metadata": {},
   "outputs": [
    {
     "name": "stdout",
     "output_type": "stream",
     "text": [
      "103 118\n"
     ]
    }
   ],
   "source": [
    "# To find the countries exist in all the files\n",
    "countries = []\n",
    "i = 0\n",
    "for country in countries_phase1:\n",
    "    i += 1\n",
    "    if country in countries_ed and country in countries_temp and country in countries_em and country in countries_area:\n",
    "        countries.append(country)\n",
    "print(len(countries),i)"
   ]
  },
  {
   "cell_type": "code",
   "execution_count": 8,
   "id": "eaf0142c",
   "metadata": {},
   "outputs": [],
   "source": [
    "# To slice the values for the countries\n",
    "# df_filter is the column of country in file\n",
    "def slicing(df, df_filter, column, ls):\n",
    "    index = []\n",
    "    for i in range(len(df_filter)):\n",
    "        if df_filter.loc[i, :].item() in ls:\n",
    "            index.append(i)\n",
    "        # drop the prefix '?''\n",
    "        elif df_filter.loc[i, :].item()[0] == '?':\n",
    "            if df_filter.loc[i, :].item()[1::] in ls:\n",
    "                index.append(i)\n",
    "    df_out = df.loc[index, column]\n",
    "    return [i for i in df_out]"
   ]
  },
  {
   "cell_type": "code",
   "execution_count": 9,
   "id": "e48e9481",
   "metadata": {},
   "outputs": [],
   "source": [
    "ls_edu = slicing(df_Education, df_Education.loc[:, ['Area']], 'Education level', countries)\n",
    "ls_temp = slicing(df_Temperature, df_Temperature.loc[:, ['Area']], 'Value', countries)\n",
    "ls_em = slicing(df_Emission, df_Emission.loc[:, ['Area']], 'Value', countries)\n",
    "ls_la = slicing(df_Area, df_Area.loc[:, ['Country Name']], '2019', countries)\n",
    "ls_pop = slicing(df_Population, df_Population.loc[:, ['Area']], 'Value', countries)\n",
    "ls_production = slicing(df_Phase1, df_Phase1.loc[:, ['Area']], 'Production per person(kg)', countries)"
   ]
  },
  {
   "cell_type": "code",
   "execution_count": 10,
   "id": "62c968c5",
   "metadata": {},
   "outputs": [],
   "source": [
    "# To generate a new column by divides one with the other\n",
    "def divide(ls1, ls2):\n",
    "    output = []\n",
    "    if len(ls1) == len(ls2):\n",
    "        for i in range(len(ls1)):\n",
    "            output.append(ls1[i]/ls2[i])\n",
    "        return output\n",
    "    else:\n",
    "        print('!=')"
   ]
  },
  {
   "cell_type": "code",
   "execution_count": 12,
   "id": "f5c1cc2c",
   "metadata": {},
   "outputs": [],
   "source": [
    "# Perpare lists for dataframe\n",
    "import math\n",
    "ls_pop_density = divide(ls_pop, ls_la)\n",
    "ls_emission_per_cap = divide(ls_em, ls_pop)\n",
    "ls_emission_per_cap_ = [i*1000 for i in ls_emission_per_cap]\n",
    "\n",
    "# variables added after modification\n",
    "ls_pop_density_sqrt = [math.sqrt(i) for i in ls_pop_density]\n",
    "ls_education_sqr = [i ** 2 for i in ls_edu] \n",
    "ls_temp_sqr = [i ** 2 for i in ls_temp]\n",
    "ls_emission_per_cap_inv = [i ** -1 for i in ls_emission_per_cap_]\n",
    "ls_pop_density_inv = [i ** -1 for i in ls_pop_density]"
   ]
  },
  {
   "cell_type": "code",
   "execution_count": 13,
   "id": "8ce83c3f",
   "metadata": {
    "scrolled": false
   },
   "outputs": [
    {
     "data": {
      "text/html": [
       "<div>\n",
       "<style scoped>\n",
       "    .dataframe tbody tr th:only-of-type {\n",
       "        vertical-align: middle;\n",
       "    }\n",
       "\n",
       "    .dataframe tbody tr th {\n",
       "        vertical-align: top;\n",
       "    }\n",
       "\n",
       "    .dataframe thead th {\n",
       "        text-align: right;\n",
       "    }\n",
       "</style>\n",
       "<table border=\"1\" class=\"dataframe\">\n",
       "  <thead>\n",
       "    <tr style=\"text-align: right;\">\n",
       "      <th></th>\n",
       "      <th>Area</th>\n",
       "      <th>Production per cap</th>\n",
       "      <th>Education</th>\n",
       "      <th>Temperature</th>\n",
       "      <th>Emission</th>\n",
       "      <th>Emission per cap</th>\n",
       "      <th>Population</th>\n",
       "      <th>Land Area</th>\n",
       "      <th>Population Density</th>\n",
       "      <th>Population Density SQRT</th>\n",
       "      <th>Education^</th>\n",
       "      <th>Temperature^</th>\n",
       "      <th>Emission per cap^</th>\n",
       "      <th>Population Density^</th>\n",
       "    </tr>\n",
       "  </thead>\n",
       "  <tbody>\n",
       "    <tr>\n",
       "      <th>0</th>\n",
       "      <td>Afghanistan</td>\n",
       "      <td>147.829889</td>\n",
       "      <td>0.414</td>\n",
       "      <td>0.960</td>\n",
       "      <td>117.0798</td>\n",
       "      <td>3.099850</td>\n",
       "      <td>37769.499</td>\n",
       "      <td>652230.0</td>\n",
       "      <td>0.057908</td>\n",
       "      <td>0.240641</td>\n",
       "      <td>0.171396</td>\n",
       "      <td>0.921600</td>\n",
       "      <td>0.322596</td>\n",
       "      <td>17.268696</td>\n",
       "    </tr>\n",
       "    <tr>\n",
       "      <th>1</th>\n",
       "      <td>Albania</td>\n",
       "      <td>231.764828</td>\n",
       "      <td>0.746</td>\n",
       "      <td>1.823</td>\n",
       "      <td>322.5184</td>\n",
       "      <td>112.223914</td>\n",
       "      <td>2873.883</td>\n",
       "      <td>27400.0</td>\n",
       "      <td>0.104886</td>\n",
       "      <td>0.323861</td>\n",
       "      <td>0.556516</td>\n",
       "      <td>3.323329</td>\n",
       "      <td>0.008911</td>\n",
       "      <td>9.534139</td>\n",
       "    </tr>\n",
       "    <tr>\n",
       "      <th>2</th>\n",
       "      <td>Algeria</td>\n",
       "      <td>131.917508</td>\n",
       "      <td>0.672</td>\n",
       "      <td>1.094</td>\n",
       "      <td>352.1759</td>\n",
       "      <td>8.246642</td>\n",
       "      <td>42705.368</td>\n",
       "      <td>2381741.0</td>\n",
       "      <td>0.017930</td>\n",
       "      <td>0.133904</td>\n",
       "      <td>0.451584</td>\n",
       "      <td>1.196836</td>\n",
       "      <td>0.121261</td>\n",
       "      <td>55.771466</td>\n",
       "    </tr>\n",
       "    <tr>\n",
       "      <th>3</th>\n",
       "      <td>Angola</td>\n",
       "      <td>90.266119</td>\n",
       "      <td>0.500</td>\n",
       "      <td>1.975</td>\n",
       "      <td>188.5210</td>\n",
       "      <td>5.826896</td>\n",
       "      <td>32353.588</td>\n",
       "      <td>1246700.0</td>\n",
       "      <td>0.025951</td>\n",
       "      <td>0.161094</td>\n",
       "      <td>0.250000</td>\n",
       "      <td>3.900625</td>\n",
       "      <td>0.171618</td>\n",
       "      <td>38.533593</td>\n",
       "    </tr>\n",
       "    <tr>\n",
       "      <th>4</th>\n",
       "      <td>Armenia</td>\n",
       "      <td>69.156513</td>\n",
       "      <td>0.740</td>\n",
       "      <td>1.853</td>\n",
       "      <td>403.7964</td>\n",
       "      <td>143.159652</td>\n",
       "      <td>2820.602</td>\n",
       "      <td>28470.0</td>\n",
       "      <td>0.099073</td>\n",
       "      <td>0.314758</td>\n",
       "      <td>0.547600</td>\n",
       "      <td>3.433609</td>\n",
       "      <td>0.006985</td>\n",
       "      <td>10.093590</td>\n",
       "    </tr>\n",
       "    <tr>\n",
       "      <th>...</th>\n",
       "      <td>...</td>\n",
       "      <td>...</td>\n",
       "      <td>...</td>\n",
       "      <td>...</td>\n",
       "      <td>...</td>\n",
       "      <td>...</td>\n",
       "      <td>...</td>\n",
       "      <td>...</td>\n",
       "      <td>...</td>\n",
       "      <td>...</td>\n",
       "      <td>...</td>\n",
       "      <td>...</td>\n",
       "      <td>...</td>\n",
       "      <td>...</td>\n",
       "    </tr>\n",
       "    <tr>\n",
       "      <th>98</th>\n",
       "      <td>Ukraine</td>\n",
       "      <td>1683.790153</td>\n",
       "      <td>0.799</td>\n",
       "      <td>2.355</td>\n",
       "      <td>4029.0359</td>\n",
       "      <td>91.131785</td>\n",
       "      <td>44211.094</td>\n",
       "      <td>579400.0</td>\n",
       "      <td>0.076305</td>\n",
       "      <td>0.276234</td>\n",
       "      <td>0.638401</td>\n",
       "      <td>5.546025</td>\n",
       "      <td>0.010973</td>\n",
       "      <td>13.105308</td>\n",
       "    </tr>\n",
       "    <tr>\n",
       "      <th>99</th>\n",
       "      <td>Uruguay</td>\n",
       "      <td>1039.803302</td>\n",
       "      <td>0.765</td>\n",
       "      <td>0.862</td>\n",
       "      <td>506.6267</td>\n",
       "      <td>147.773122</td>\n",
       "      <td>3428.409</td>\n",
       "      <td>175020.0</td>\n",
       "      <td>0.019589</td>\n",
       "      <td>0.139960</td>\n",
       "      <td>0.585225</td>\n",
       "      <td>0.743044</td>\n",
       "      <td>0.006767</td>\n",
       "      <td>51.049918</td>\n",
       "    </tr>\n",
       "    <tr>\n",
       "      <th>100</th>\n",
       "      <td>Uzbekistan</td>\n",
       "      <td>212.138054</td>\n",
       "      <td>0.729</td>\n",
       "      <td>1.930</td>\n",
       "      <td>174.3026</td>\n",
       "      <td>5.285589</td>\n",
       "      <td>32976.948</td>\n",
       "      <td>440555.0</td>\n",
       "      <td>0.074853</td>\n",
       "      <td>0.273593</td>\n",
       "      <td>0.531441</td>\n",
       "      <td>3.724900</td>\n",
       "      <td>0.189194</td>\n",
       "      <td>13.359484</td>\n",
       "    </tr>\n",
       "    <tr>\n",
       "      <th>101</th>\n",
       "      <td>Zambia</td>\n",
       "      <td>120.950432</td>\n",
       "      <td>0.557</td>\n",
       "      <td>1.295</td>\n",
       "      <td>103.3521</td>\n",
       "      <td>5.622928</td>\n",
       "      <td>18380.477</td>\n",
       "      <td>743390.0</td>\n",
       "      <td>0.024725</td>\n",
       "      <td>0.157243</td>\n",
       "      <td>0.310249</td>\n",
       "      <td>1.677025</td>\n",
       "      <td>0.177843</td>\n",
       "      <td>40.444543</td>\n",
       "    </tr>\n",
       "    <tr>\n",
       "      <th>102</th>\n",
       "      <td>Zimbabwe</td>\n",
       "      <td>43.350694</td>\n",
       "      <td>0.587</td>\n",
       "      <td>0.939</td>\n",
       "      <td>399.0541</td>\n",
       "      <td>25.989208</td>\n",
       "      <td>15354.608</td>\n",
       "      <td>386850.0</td>\n",
       "      <td>0.039691</td>\n",
       "      <td>0.199227</td>\n",
       "      <td>0.344569</td>\n",
       "      <td>0.881721</td>\n",
       "      <td>0.038478</td>\n",
       "      <td>25.194391</td>\n",
       "    </tr>\n",
       "  </tbody>\n",
       "</table>\n",
       "<p>102 rows × 14 columns</p>\n",
       "</div>"
      ],
      "text/plain": [
       "            Area  Production per cap  Education  Temperature   Emission  \\\n",
       "0    Afghanistan          147.829889      0.414        0.960   117.0798   \n",
       "1        Albania          231.764828      0.746        1.823   322.5184   \n",
       "2        Algeria          131.917508      0.672        1.094   352.1759   \n",
       "3         Angola           90.266119      0.500        1.975   188.5210   \n",
       "4        Armenia           69.156513      0.740        1.853   403.7964   \n",
       "..           ...                 ...        ...          ...        ...   \n",
       "98       Ukraine         1683.790153      0.799        2.355  4029.0359   \n",
       "99       Uruguay         1039.803302      0.765        0.862   506.6267   \n",
       "100   Uzbekistan          212.138054      0.729        1.930   174.3026   \n",
       "101       Zambia          120.950432      0.557        1.295   103.3521   \n",
       "102     Zimbabwe           43.350694      0.587        0.939   399.0541   \n",
       "\n",
       "     Emission per cap  Population  Land Area  Population Density  \\\n",
       "0            3.099850   37769.499   652230.0            0.057908   \n",
       "1          112.223914    2873.883    27400.0            0.104886   \n",
       "2            8.246642   42705.368  2381741.0            0.017930   \n",
       "3            5.826896   32353.588  1246700.0            0.025951   \n",
       "4          143.159652    2820.602    28470.0            0.099073   \n",
       "..                ...         ...        ...                 ...   \n",
       "98          91.131785   44211.094   579400.0            0.076305   \n",
       "99         147.773122    3428.409   175020.0            0.019589   \n",
       "100          5.285589   32976.948   440555.0            0.074853   \n",
       "101          5.622928   18380.477   743390.0            0.024725   \n",
       "102         25.989208   15354.608   386850.0            0.039691   \n",
       "\n",
       "     Population Density SQRT  Education^  Temperature^  Emission per cap^  \\\n",
       "0                   0.240641    0.171396      0.921600           0.322596   \n",
       "1                   0.323861    0.556516      3.323329           0.008911   \n",
       "2                   0.133904    0.451584      1.196836           0.121261   \n",
       "3                   0.161094    0.250000      3.900625           0.171618   \n",
       "4                   0.314758    0.547600      3.433609           0.006985   \n",
       "..                       ...         ...           ...                ...   \n",
       "98                  0.276234    0.638401      5.546025           0.010973   \n",
       "99                  0.139960    0.585225      0.743044           0.006767   \n",
       "100                 0.273593    0.531441      3.724900           0.189194   \n",
       "101                 0.157243    0.310249      1.677025           0.177843   \n",
       "102                 0.199227    0.344569      0.881721           0.038478   \n",
       "\n",
       "     Population Density^  \n",
       "0              17.268696  \n",
       "1               9.534139  \n",
       "2              55.771466  \n",
       "3              38.533593  \n",
       "4              10.093590  \n",
       "..                   ...  \n",
       "98             13.105308  \n",
       "99             51.049918  \n",
       "100            13.359484  \n",
       "101            40.444543  \n",
       "102            25.194391  \n",
       "\n",
       "[102 rows x 14 columns]"
      ]
     },
     "metadata": {},
     "output_type": "display_data"
    }
   ],
   "source": [
    "# Create the database of our model\n",
    "# Create a new dataframe\n",
    "df_data = pd.DataFrame()\n",
    "# Add columns\n",
    "df_data['Area'] = countries\n",
    "df_data['Production per cap'] = ls_production\n",
    "df_data['Education'] = ls_edu\n",
    "df_data['Temperature'] = ls_temp\n",
    "df_data['Emission'] = ls_em\n",
    "df_data['Emission per cap'] = ls_emission_per_cap_\n",
    "df_data['Population'] = ls_pop\n",
    "df_data['Land Area'] = ls_la\n",
    "df_data['Population Density'] = ls_pop_density\n",
    "df_data['Population Density SQRT'] = ls_pop_density_sqrt\n",
    "df_data['Education^'] = ls_education_sqr\n",
    "df_data['Temperature^'] = ls_temp_sqr\n",
    "df_data['Emission per cap^'] = ls_emission_per_cap_inv\n",
    "df_data['Population Density^'] = ls_pop_density_inv\n",
    "\n",
    "# Drop nan values\n",
    "df_data.dropna(inplace=True)\n",
    "display(df_data)"
   ]
  },
  {
   "cell_type": "code",
   "execution_count": 14,
   "id": "a92e89f9",
   "metadata": {},
   "outputs": [
    {
     "data": {
      "text/plain": [
       "(102, 5)"
      ]
     },
     "execution_count": 14,
     "metadata": {},
     "output_type": "execute_result"
    }
   ],
   "source": [
    "## split into features and targets\n",
    "\n",
    "feature_names = ['Education', 'Temperature',  'Emission per cap',  'Land Area', 'Population Density']\n",
    "target_name = ['Production per cap']\n",
    "\n",
    "df_features, df_target = get_features_targets(df_data, feature_names, target_name)\n",
    "\n",
    "df_features.shape"
   ]
  },
  {
   "cell_type": "code",
   "execution_count": 15,
   "id": "b37472aa",
   "metadata": {},
   "outputs": [
    {
     "name": "stdout",
     "output_type": "stream",
     "text": [
      "(82, 5)\n",
      "(82, 1)\n"
     ]
    }
   ],
   "source": [
    "## split into training and testing sets\n",
    "df_features_train, df_features_test, df_target_train, df_target_test = split_data(df_features, df_target, test_size=0.2)\n",
    "df_features_train_z = normalize_z(df_features_train)\n",
    "\n",
    "print(df_features_train.shape)\n",
    "print(df_target_train.shape)"
   ]
  },
  {
   "cell_type": "code",
   "execution_count": 16,
   "id": "fbe89efa",
   "metadata": {},
   "outputs": [
    {
     "name": "stdout",
     "output_type": "stream",
     "text": [
      "(82, 6)\n"
     ]
    }
   ],
   "source": [
    "## train the model\n",
    "\n",
    "X_train = prepare_feature(df_features_train_z)\n",
    "print(X_train.shape)\n",
    "target_train = prepare_target(df_target_train)"
   ]
  },
  {
   "cell_type": "code",
   "execution_count": 17,
   "id": "c01d90a8",
   "metadata": {},
   "outputs": [
    {
     "name": "stdout",
     "output_type": "stream",
     "text": [
      "[[409.19549097]\n",
      " [142.25116667]\n",
      " [154.18505896]\n",
      " [-55.48262602]\n",
      " [ 64.15973105]\n",
      " [-73.14450926]]\n"
     ]
    },
    {
     "data": {
      "text/plain": [
       "[<matplotlib.lines.Line2D at 0x2151225e550>]"
      ]
     },
     "execution_count": 17,
     "metadata": {},
     "output_type": "execute_result"
    },
    {
     "data": {
      "image/png": "[encoded data removed]",
      "text/plain": [
       "<Figure size 432x288 with 1 Axes>"
      ]
     },
     "metadata": {
      "needs_background": "light"
     },
     "output_type": "display_data"
    }
   ],
   "source": [
    "iterations = 3000\n",
    "alpha = 0.004\n",
    "beta = np.zeros((6,1))\n",
    "\n",
    "beta, J_storage = gradient_descent(X_train, target_train, beta, alpha, iterations)\n",
    "\n",
    "print(beta)\n",
    "\n",
    "plt.plot(J_storage)\n"
   ]
  },
  {
   "cell_type": "code",
   "execution_count": 18,
   "id": "f4f04106",
   "metadata": {},
   "outputs": [
    {
     "name": "stdout",
     "output_type": "stream",
     "text": [
      "[[186.17925627]\n",
      " [764.46918448]\n",
      " [218.78919527]\n",
      " [648.36153697]\n",
      " [315.24164908]\n",
      " [655.18402141]\n",
      " [196.46932376]\n",
      " [507.89194663]\n",
      " [378.06137491]\n",
      " [614.19632424]\n",
      " [481.08332161]\n",
      " [128.92684707]\n",
      " [655.24830461]\n",
      " [107.83481631]\n",
      " [ 35.27905674]\n",
      " [751.35184419]\n",
      " [197.38698694]\n",
      " [693.71312338]\n",
      " [418.14398967]\n",
      " [230.09771584]]\n"
     ]
    }
   ],
   "source": [
    "pred = predict(df_features_test, beta)\n",
    "\n",
    "print(pred)"
   ]
  },
  {
   "cell_type": "code",
   "execution_count": 19,
   "id": "b2ccfbbe",
   "metadata": {},
   "outputs": [
    {
     "name": "stdout",
     "output_type": "stream",
     "text": [
      "beta:  [[409.19549097]\n",
      " [142.25116667]\n",
      " [154.18505896]\n",
      " [-55.48262602]\n",
      " [ 64.15973105]\n",
      " [-73.14450926]]\n",
      "mse:  [131603.38956777]\n",
      "r2_score:  [0.37319913]\n"
     ]
    }
   ],
   "source": [
    "## test the model\n",
    "\n",
    "target_test = prepare_target(df_target_test)\n",
    "\n",
    "mse = mean_squared_error(target_test, pred)\n",
    "\n",
    "R2 = r2_score(target_test, pred)\n",
    "\n",
    "print('beta: ', beta)\n",
    "print('mse: ', mse)\n",
    "print('r2_score: ', R2)"
   ]
  },
  {
   "cell_type": "code",
   "execution_count": 20,
   "id": "43d06e8f",
   "metadata": {},
   "outputs": [
    {
     "data": {
      "text/plain": [
       "<matplotlib.collections.PathCollection at 0x21512339880>"
      ]
     },
     "execution_count": 20,
     "metadata": {},
     "output_type": "execute_result"
    },
    {
     "data": {
      "image/png": "[encoded data removed]",
      "text/plain": [
       "<Figure size 432x288 with 1 Axes>"
      ]
     },
     "metadata": {
      "needs_background": "light"
     },
     "output_type": "display_data"
    }
   ],
   "source": [
    "plt.scatter(df_features_train_z['Temperature'], df_target_train['Production per cap'], color='red')"
   ]
  },
  {
   "cell_type": "code",
   "execution_count": 21,
   "id": "a22664f7",
   "metadata": {},
   "outputs": [
    {
     "data": {
      "text/plain": [
       "<matplotlib.collections.PathCollection at 0x215123a1d90>"
      ]
     },
     "execution_count": 21,
     "metadata": {},
     "output_type": "execute_result"
    },
    {
     "data": {
      "image/png": "[encoded data removed]",
      "text/plain": [
       "<Figure size 432x288 with 1 Axes>"
      ]
     },
     "metadata": {
      "needs_background": "light"
     },
     "output_type": "display_data"
    }
   ],
   "source": [
    "plt.scatter(df_features_train_z['Education'], df_target_train['Production per cap'], color='red')"
   ]
  },
  {
   "cell_type": "code",
   "execution_count": 22,
   "id": "254d0881",
   "metadata": {},
   "outputs": [
    {
     "data": {
      "text/plain": [
       "<matplotlib.collections.PathCollection at 0x21512400f70>"
      ]
     },
     "execution_count": 22,
     "metadata": {},
     "output_type": "execute_result"
    },
    {
     "data": {
      "image/png": "[encoded data removed]",
      "text/plain": [
       "<Figure size 432x288 with 1 Axes>"
      ]
     },
     "metadata": {
      "needs_background": "light"
     },
     "output_type": "display_data"
    }
   ],
   "source": [
    "plt.scatter(df_features_train_z['Emission per cap'], df_target_train['Production per cap'], color='red')"
   ]
  },
  {
   "cell_type": "code",
   "execution_count": 23,
   "id": "ee00f6d7",
   "metadata": {},
   "outputs": [
    {
     "data": {
      "text/plain": [
       "<matplotlib.collections.PathCollection at 0x2151245fd60>"
      ]
     },
     "execution_count": 23,
     "metadata": {},
     "output_type": "execute_result"
    },
    {
     "data": {
      "image/png": "[encoded data removed]",
      "text/plain": [
       "<Figure size 432x288 with 1 Axes>"
      ]
     },
     "metadata": {
      "needs_background": "light"
     },
     "output_type": "display_data"
    }
   ],
   "source": [
    "plt.scatter(df_features_train_z['Land Area'], df_target_train['Production per cap'], color='red')"
   ]
  },
  {
   "cell_type": "code",
   "execution_count": 24,
   "id": "e7c46119",
   "metadata": {},
   "outputs": [
    {
     "data": {
      "text/plain": [
       "<matplotlib.collections.PathCollection at 0x215122bf2e0>"
      ]
     },
     "execution_count": 24,
     "metadata": {},
     "output_type": "execute_result"
    },
    {
     "data": {
      "image/png": "[encoded data removed]",
      "text/plain": [
       "<Figure size 432x288 with 1 Axes>"
      ]
     },
     "metadata": {
      "needs_background": "light"
     },
     "output_type": "display_data"
    }
   ],
   "source": [
    "plt.scatter(df_features_train_z['Population Density'], df_target_train['Production per cap'], color='red')"
   ]
  },
  {
   "cell_type": "code",
   "execution_count": 25,
   "id": "8c02fdd7",
   "metadata": {},
   "outputs": [
    {
     "data": {
      "text/plain": [
       "(102, 5)"
      ]
     },
     "execution_count": 25,
     "metadata": {},
     "output_type": "execute_result"
    }
   ],
   "source": [
    "## split into features and targets\n",
    "\n",
    "feature_names = ['Education^', 'Temperature^',  'Emission per cap^',  'Land Area', 'Population Density SQRT']\n",
    "target_name = ['Production per cap']\n",
    "\n",
    "df_features, df_target = get_features_targets(df_data, feature_names, target_name)\n",
    "\n",
    "df_features.shape"
   ]
  },
  {
   "cell_type": "code",
   "execution_count": 26,
   "id": "5fd2002a",
   "metadata": {},
   "outputs": [
    {
     "name": "stdout",
     "output_type": "stream",
     "text": [
      "(82, 5)\n",
      "(82, 1)\n"
     ]
    }
   ],
   "source": [
    "## split into training and testing sets\n",
    "df_features_train, df_features_test, df_target_train, df_target_test = split_data(df_features, df_target, test_size=0.2)\n",
    "df_features_train_z = normalize_z(df_features_train)\n",
    "\n",
    "print(df_features_train.shape)\n",
    "print(df_target_train.shape)"
   ]
  },
  {
   "cell_type": "code",
   "execution_count": 27,
   "id": "2896451a",
   "metadata": {},
   "outputs": [],
   "source": [
    "## train the model\n",
    "\n",
    "X_train = prepare_feature(df_features_train_z)\n",
    "target_train = prepare_target(df_target_train)"
   ]
  },
  {
   "cell_type": "code",
   "execution_count": 28,
   "id": "40a73f66",
   "metadata": {},
   "outputs": [
    {
     "name": "stdout",
     "output_type": "stream",
     "text": [
      "[[409.19549097]\n",
      " [120.75218309]\n",
      " [171.56854976]\n",
      " [ -1.65482197]\n",
      " [ 56.27638252]\n",
      " [-71.33561781]]\n"
     ]
    },
    {
     "data": {
      "text/plain": [
       "[<matplotlib.lines.Line2D at 0x21512525190>]"
      ]
     },
     "execution_count": 28,
     "metadata": {},
     "output_type": "execute_result"
    },
    {
     "data": {
      "image/png": "[encoded data removed]",
      "text/plain": [
       "<Figure size 432x288 with 1 Axes>"
      ]
     },
     "metadata": {
      "needs_background": "light"
     },
     "output_type": "display_data"
    }
   ],
   "source": [
    "iterations = 3000\n",
    "alpha = 0.004\n",
    "beta = np.zeros((len(feature_names) + 1,1))\n",
    "\n",
    "beta, J_storage = gradient_descent(X_train, target_train, beta, alpha, iterations)\n",
    "\n",
    "print(beta)\n",
    "\n",
    "plt.plot(J_storage)"
   ]
  },
  {
   "cell_type": "code",
   "execution_count": 29,
   "id": "3685218e",
   "metadata": {},
   "outputs": [
    {
     "name": "stdout",
     "output_type": "stream",
     "text": [
      "[[137.23579057]\n",
      " [836.67390453]\n",
      " [175.84395112]\n",
      " [615.41138289]\n",
      " [275.41223779]\n",
      " [787.3474911 ]\n",
      " [162.31819819]\n",
      " [417.43781352]\n",
      " [317.79399611]\n",
      " [664.10067116]\n",
      " [504.05248349]\n",
      " [122.73396659]\n",
      " [598.02918836]\n",
      " [140.44747169]\n",
      " [ 88.21513026]\n",
      " [790.62966572]\n",
      " [125.27025551]\n",
      " [817.92202133]\n",
      " [432.62018147]\n",
      " [174.41401799]]\n"
     ]
    }
   ],
   "source": [
    "pred = predict(df_features_test, beta)\n",
    "\n",
    "print(pred)"
   ]
  },
  {
   "cell_type": "code",
   "execution_count": 30,
   "id": "5c9aaff4",
   "metadata": {},
   "outputs": [
    {
     "name": "stdout",
     "output_type": "stream",
     "text": [
      "beta:  [[409.19549097]\n",
      " [120.75218309]\n",
      " [171.56854976]\n",
      " [ -1.65482197]\n",
      " [ 56.27638252]\n",
      " [-71.33561781]]\n",
      "mse:  [109647.00908189]\n",
      "r2_score:  [0.47777302]\n"
     ]
    }
   ],
   "source": [
    "## test the model\n",
    "\n",
    "target_test = prepare_target(df_target_test)\n",
    "\n",
    "mse = mean_squared_error(target_test, pred)\n",
    "\n",
    "R2 = r2_score(target_test, pred)\n",
    "\n",
    "print('beta: ', beta)\n",
    "print('mse: ', mse)\n",
    "print('r2_score: ', R2)"
   ]
  }
 ],
 "metadata": {
  "kernelspec": {
   "display_name": "Python 3",
   "language": "python",
   "name": "python3"
  },
  "language_info": {
   "codemirror_mode": {
    "name": "ipython",
    "version": 3
   },
   "file_extension": ".py",
   "mimetype": "text/x-python",
   "name": "python",
   "nbconvert_exporter": "python",
   "pygments_lexer": "ipython3",
   "version": "3.9.7"
  },
  "vscode": {
   "interpreter": {
    "hash": "fa3c120bdd7453dc644c4fd981676bb93717413a29749db468339fd6787a594f"
   }
  }
 },
 "nbformat": 4,
 "nbformat_minor": 5
}
